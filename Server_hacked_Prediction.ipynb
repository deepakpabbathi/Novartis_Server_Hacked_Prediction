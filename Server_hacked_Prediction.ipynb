{
  "nbformat": 4,
  "nbformat_minor": 0,
  "metadata": {
    "colab": {
      "name": "Server_hacked_Prediction.ipynb",
      "provenance": [],
      "collapsed_sections": []
    },
    "kernelspec": {
      "name": "python3",
      "display_name": "Python 3"
    }
  },
  "cells": [
    {
      "cell_type": "code",
      "metadata": {
        "id": "JMl1LX9j0lie",
        "colab_type": "code",
        "colab": {
          "base_uri": "https://localhost:8080/",
          "height": 122
        },
        "outputId": "59003997-5854-48ae-910b-e825b3a404a4"
      },
      "source": [
        "from google.colab import drive\n",
        "drive.mount('/content/gdrive')"
      ],
      "execution_count": 1,
      "outputs": [
        {
          "output_type": "stream",
          "text": [
            "Go to this URL in a browser: https://accounts.google.com/o/oauth2/auth?client_id=947318989803-6bn6qk8qdgf4n4g3pfee6491hc0brc4i.apps.googleusercontent.com&redirect_uri=urn%3aietf%3awg%3aoauth%3a2.0%3aoob&response_type=code&scope=email%20https%3a%2f%2fwww.googleapis.com%2fauth%2fdocs.test%20https%3a%2f%2fwww.googleapis.com%2fauth%2fdrive%20https%3a%2f%2fwww.googleapis.com%2fauth%2fdrive.photos.readonly%20https%3a%2f%2fwww.googleapis.com%2fauth%2fpeopleapi.readonly\n",
            "\n",
            "Enter your authorization code:\n",
            "··········\n",
            "Mounted at /content/gdrive\n"
          ],
          "name": "stdout"
        }
      ]
    },
    {
      "cell_type": "code",
      "metadata": {
        "id": "7D0z9pdM0m4Y",
        "colab_type": "code",
        "colab": {
          "base_uri": "https://localhost:8080/",
          "height": 34
        },
        "outputId": "f3c9cfe1-39ca-4453-f0e1-b195c1c54e00"
      },
      "source": [
        "!ls"
      ],
      "execution_count": 2,
      "outputs": [
        {
          "output_type": "stream",
          "text": [
            "gdrive\tsample_data\n"
          ],
          "name": "stdout"
        }
      ]
    },
    {
      "cell_type": "code",
      "metadata": {
        "id": "uH5Mtt5H0xpX",
        "colab_type": "code",
        "colab": {
          "base_uri": "https://localhost:8080/",
          "height": 71
        },
        "outputId": "c57006b5-f0fa-4d15-9cf8-306e42664902"
      },
      "source": [
        "## Import necessary libraries\n",
        "import numpy as np\n",
        "import pandas as pd\n",
        "import os\n",
        "import seaborn as sns\n",
        "from sklearn.model_selection import train_test_split ## For splitting data into train and validation\n",
        "from sklearn.preprocessing import LabelEncoder ## For label encoding(converting categorical values to label)"
      ],
      "execution_count": 71,
      "outputs": [
        {
          "output_type": "stream",
          "text": [
            "/usr/local/lib/python3.6/dist-packages/statsmodels/tools/_testing.py:19: FutureWarning: pandas.util.testing is deprecated. Use the functions in the public API at pandas.testing instead.\n",
            "  import pandas.util.testing as tm\n"
          ],
          "name": "stderr"
        }
      ]
    },
    {
      "cell_type": "code",
      "metadata": {
        "id": "40juWAp100Qb",
        "colab_type": "code",
        "colab": {}
      },
      "source": [
        "os.chdir('/content/gdrive/My Drive/Novartis')"
      ],
      "execution_count": 4,
      "outputs": []
    },
    {
      "cell_type": "code",
      "metadata": {
        "id": "qgEwaxq90-MM",
        "colab_type": "code",
        "colab": {
          "base_uri": "https://localhost:8080/",
          "height": 34
        },
        "outputId": "936eb5cc-dee3-45cc-8241-9186fb392b1a"
      },
      "source": [
        "!ls"
      ],
      "execution_count": 5,
      "outputs": [
        {
          "output_type": "stream",
          "text": [
            "sample_submission.csv  Test.csv  Train.csv  xgboost.csv\n"
          ],
          "name": "stdout"
        }
      ]
    },
    {
      "cell_type": "code",
      "metadata": {
        "id": "Ti9bgegN1AFG",
        "colab_type": "code",
        "colab": {}
      },
      "source": [
        "train_data=pd.read_csv('Train.csv')"
      ],
      "execution_count": 6,
      "outputs": []
    },
    {
      "cell_type": "code",
      "metadata": {
        "id": "m-KfpqI91Q95",
        "colab_type": "code",
        "colab": {}
      },
      "source": [
        "test_data=pd.read_csv('Test.csv')"
      ],
      "execution_count": 7,
      "outputs": []
    },
    {
      "cell_type": "code",
      "metadata": {
        "id": "awJO6Y7Y1fnz",
        "colab_type": "code",
        "colab": {
          "base_uri": "https://localhost:8080/",
          "height": 51
        },
        "outputId": "ef1b9cd7-61a5-4ba1-c305-a4477a968f54"
      },
      "source": [
        "print(train_data.shape)\n",
        "print(test_data.shape)"
      ],
      "execution_count": 8,
      "outputs": [
        {
          "output_type": "stream",
          "text": [
            "(23856, 18)\n",
            "(15903, 17)\n"
          ],
          "name": "stdout"
        }
      ]
    },
    {
      "cell_type": "code",
      "metadata": {
        "id": "PRBhFFTB1oIo",
        "colab_type": "code",
        "colab": {
          "base_uri": "https://localhost:8080/",
          "height": 142
        },
        "outputId": "c128aac4-45d9-4ce1-a8d0-d9366a5ee0d4"
      },
      "source": [
        "train_data.head(3)"
      ],
      "execution_count": 9,
      "outputs": [
        {
          "output_type": "execute_result",
          "data": {
            "text/html": [
              "<div>\n",
              "<style scoped>\n",
              "    .dataframe tbody tr th:only-of-type {\n",
              "        vertical-align: middle;\n",
              "    }\n",
              "\n",
              "    .dataframe tbody tr th {\n",
              "        vertical-align: top;\n",
              "    }\n",
              "\n",
              "    .dataframe thead th {\n",
              "        text-align: right;\n",
              "    }\n",
              "</style>\n",
              "<table border=\"1\" class=\"dataframe\">\n",
              "  <thead>\n",
              "    <tr style=\"text-align: right;\">\n",
              "      <th></th>\n",
              "      <th>INCIDENT_ID</th>\n",
              "      <th>DATE</th>\n",
              "      <th>X_1</th>\n",
              "      <th>X_2</th>\n",
              "      <th>X_3</th>\n",
              "      <th>X_4</th>\n",
              "      <th>X_5</th>\n",
              "      <th>X_6</th>\n",
              "      <th>X_7</th>\n",
              "      <th>X_8</th>\n",
              "      <th>X_9</th>\n",
              "      <th>X_10</th>\n",
              "      <th>X_11</th>\n",
              "      <th>X_12</th>\n",
              "      <th>X_13</th>\n",
              "      <th>X_14</th>\n",
              "      <th>X_15</th>\n",
              "      <th>MULTIPLE_OFFENSE</th>\n",
              "    </tr>\n",
              "  </thead>\n",
              "  <tbody>\n",
              "    <tr>\n",
              "      <th>0</th>\n",
              "      <td>CR_102659</td>\n",
              "      <td>04-JUL-04</td>\n",
              "      <td>0</td>\n",
              "      <td>36</td>\n",
              "      <td>34</td>\n",
              "      <td>2</td>\n",
              "      <td>1</td>\n",
              "      <td>5</td>\n",
              "      <td>6</td>\n",
              "      <td>1</td>\n",
              "      <td>6</td>\n",
              "      <td>1</td>\n",
              "      <td>174</td>\n",
              "      <td>1.0</td>\n",
              "      <td>92</td>\n",
              "      <td>29</td>\n",
              "      <td>36</td>\n",
              "      <td>0</td>\n",
              "    </tr>\n",
              "    <tr>\n",
              "      <th>1</th>\n",
              "      <td>CR_189752</td>\n",
              "      <td>18-JUL-17</td>\n",
              "      <td>1</td>\n",
              "      <td>37</td>\n",
              "      <td>37</td>\n",
              "      <td>0</td>\n",
              "      <td>0</td>\n",
              "      <td>11</td>\n",
              "      <td>17</td>\n",
              "      <td>1</td>\n",
              "      <td>6</td>\n",
              "      <td>1</td>\n",
              "      <td>236</td>\n",
              "      <td>1.0</td>\n",
              "      <td>103</td>\n",
              "      <td>142</td>\n",
              "      <td>34</td>\n",
              "      <td>1</td>\n",
              "    </tr>\n",
              "    <tr>\n",
              "      <th>2</th>\n",
              "      <td>CR_184637</td>\n",
              "      <td>15-MAR-17</td>\n",
              "      <td>0</td>\n",
              "      <td>3</td>\n",
              "      <td>2</td>\n",
              "      <td>3</td>\n",
              "      <td>5</td>\n",
              "      <td>1</td>\n",
              "      <td>0</td>\n",
              "      <td>2</td>\n",
              "      <td>3</td>\n",
              "      <td>1</td>\n",
              "      <td>174</td>\n",
              "      <td>1.0</td>\n",
              "      <td>110</td>\n",
              "      <td>93</td>\n",
              "      <td>34</td>\n",
              "      <td>1</td>\n",
              "    </tr>\n",
              "  </tbody>\n",
              "</table>\n",
              "</div>"
            ],
            "text/plain": [
              "  INCIDENT_ID       DATE  X_1  X_2  ...  X_13  X_14  X_15  MULTIPLE_OFFENSE\n",
              "0   CR_102659  04-JUL-04    0   36  ...    92    29    36                 0\n",
              "1   CR_189752  18-JUL-17    1   37  ...   103   142    34                 1\n",
              "2   CR_184637  15-MAR-17    0    3  ...   110    93    34                 1\n",
              "\n",
              "[3 rows x 18 columns]"
            ]
          },
          "metadata": {
            "tags": []
          },
          "execution_count": 9
        }
      ]
    },
    {
      "cell_type": "code",
      "metadata": {
        "id": "iST5ifwV1uVO",
        "colab_type": "code",
        "colab": {
          "base_uri": "https://localhost:8080/",
          "height": 142
        },
        "outputId": "d9fee305-b754-460c-c896-15c1c12b3c88"
      },
      "source": [
        "train_data.tail(3)"
      ],
      "execution_count": null,
      "outputs": [
        {
          "output_type": "execute_result",
          "data": {
            "text/html": [
              "<div>\n",
              "<style scoped>\n",
              "    .dataframe tbody tr th:only-of-type {\n",
              "        vertical-align: middle;\n",
              "    }\n",
              "\n",
              "    .dataframe tbody tr th {\n",
              "        vertical-align: top;\n",
              "    }\n",
              "\n",
              "    .dataframe thead th {\n",
              "        text-align: right;\n",
              "    }\n",
              "</style>\n",
              "<table border=\"1\" class=\"dataframe\">\n",
              "  <thead>\n",
              "    <tr style=\"text-align: right;\">\n",
              "      <th></th>\n",
              "      <th>INCIDENT_ID</th>\n",
              "      <th>DATE</th>\n",
              "      <th>X_1</th>\n",
              "      <th>X_2</th>\n",
              "      <th>X_3</th>\n",
              "      <th>X_4</th>\n",
              "      <th>X_5</th>\n",
              "      <th>X_6</th>\n",
              "      <th>X_7</th>\n",
              "      <th>X_8</th>\n",
              "      <th>X_9</th>\n",
              "      <th>X_10</th>\n",
              "      <th>X_11</th>\n",
              "      <th>X_12</th>\n",
              "      <th>X_13</th>\n",
              "      <th>X_14</th>\n",
              "      <th>X_15</th>\n",
              "      <th>MULTIPLE_OFFENSE</th>\n",
              "    </tr>\n",
              "  </thead>\n",
              "  <tbody>\n",
              "    <tr>\n",
              "      <th>23853</th>\n",
              "      <td>CR_157556</td>\n",
              "      <td>03-APR-12</td>\n",
              "      <td>0</td>\n",
              "      <td>25</td>\n",
              "      <td>25</td>\n",
              "      <td>9</td>\n",
              "      <td>0</td>\n",
              "      <td>3</td>\n",
              "      <td>5</td>\n",
              "      <td>1</td>\n",
              "      <td>6</td>\n",
              "      <td>1</td>\n",
              "      <td>174</td>\n",
              "      <td>0.0</td>\n",
              "      <td>10</td>\n",
              "      <td>29</td>\n",
              "      <td>18</td>\n",
              "      <td>1</td>\n",
              "    </tr>\n",
              "    <tr>\n",
              "      <th>23854</th>\n",
              "      <td>CR_103180</td>\n",
              "      <td>25-JAN-04</td>\n",
              "      <td>0</td>\n",
              "      <td>39</td>\n",
              "      <td>39</td>\n",
              "      <td>6</td>\n",
              "      <td>5</td>\n",
              "      <td>2</td>\n",
              "      <td>7</td>\n",
              "      <td>1</td>\n",
              "      <td>6</td>\n",
              "      <td>1</td>\n",
              "      <td>127</td>\n",
              "      <td>0.0</td>\n",
              "      <td>112</td>\n",
              "      <td>103</td>\n",
              "      <td>43</td>\n",
              "      <td>1</td>\n",
              "    </tr>\n",
              "    <tr>\n",
              "      <th>23855</th>\n",
              "      <td>CR_22575</td>\n",
              "      <td>08-NOV-94</td>\n",
              "      <td>7</td>\n",
              "      <td>36</td>\n",
              "      <td>34</td>\n",
              "      <td>2</td>\n",
              "      <td>1</td>\n",
              "      <td>9</td>\n",
              "      <td>8</td>\n",
              "      <td>0</td>\n",
              "      <td>5</td>\n",
              "      <td>1</td>\n",
              "      <td>249</td>\n",
              "      <td>1.0</td>\n",
              "      <td>92</td>\n",
              "      <td>29</td>\n",
              "      <td>34</td>\n",
              "      <td>1</td>\n",
              "    </tr>\n",
              "  </tbody>\n",
              "</table>\n",
              "</div>"
            ],
            "text/plain": [
              "      INCIDENT_ID       DATE  X_1  X_2  ...  X_13  X_14  X_15  MULTIPLE_OFFENSE\n",
              "23853   CR_157556  03-APR-12    0   25  ...    10    29    18                 1\n",
              "23854   CR_103180  25-JAN-04    0   39  ...   112   103    43                 1\n",
              "23855    CR_22575  08-NOV-94    7   36  ...    92    29    34                 1\n",
              "\n",
              "[3 rows x 18 columns]"
            ]
          },
          "metadata": {
            "tags": []
          },
          "execution_count": 13
        }
      ]
    },
    {
      "cell_type": "code",
      "metadata": {
        "id": "m1mAGrT21rHW",
        "colab_type": "code",
        "colab": {
          "base_uri": "https://localhost:8080/",
          "height": 142
        },
        "outputId": "31ecc157-e017-46f1-ebe9-8aaad319ef98"
      },
      "source": [
        "test_data.head(3)"
      ],
      "execution_count": null,
      "outputs": [
        {
          "output_type": "execute_result",
          "data": {
            "text/html": [
              "<div>\n",
              "<style scoped>\n",
              "    .dataframe tbody tr th:only-of-type {\n",
              "        vertical-align: middle;\n",
              "    }\n",
              "\n",
              "    .dataframe tbody tr th {\n",
              "        vertical-align: top;\n",
              "    }\n",
              "\n",
              "    .dataframe thead th {\n",
              "        text-align: right;\n",
              "    }\n",
              "</style>\n",
              "<table border=\"1\" class=\"dataframe\">\n",
              "  <thead>\n",
              "    <tr style=\"text-align: right;\">\n",
              "      <th></th>\n",
              "      <th>INCIDENT_ID</th>\n",
              "      <th>DATE</th>\n",
              "      <th>X_1</th>\n",
              "      <th>X_2</th>\n",
              "      <th>X_3</th>\n",
              "      <th>X_4</th>\n",
              "      <th>X_5</th>\n",
              "      <th>X_6</th>\n",
              "      <th>X_7</th>\n",
              "      <th>X_8</th>\n",
              "      <th>X_9</th>\n",
              "      <th>X_10</th>\n",
              "      <th>X_11</th>\n",
              "      <th>X_12</th>\n",
              "      <th>X_13</th>\n",
              "      <th>X_14</th>\n",
              "      <th>X_15</th>\n",
              "    </tr>\n",
              "  </thead>\n",
              "  <tbody>\n",
              "    <tr>\n",
              "      <th>0</th>\n",
              "      <td>CR_195453</td>\n",
              "      <td>01-FEB-18</td>\n",
              "      <td>0</td>\n",
              "      <td>30</td>\n",
              "      <td>35</td>\n",
              "      <td>7</td>\n",
              "      <td>3</td>\n",
              "      <td>6</td>\n",
              "      <td>4</td>\n",
              "      <td>0</td>\n",
              "      <td>5</td>\n",
              "      <td>1</td>\n",
              "      <td>174</td>\n",
              "      <td>NaN</td>\n",
              "      <td>72</td>\n",
              "      <td>119</td>\n",
              "      <td>23</td>\n",
              "    </tr>\n",
              "    <tr>\n",
              "      <th>1</th>\n",
              "      <td>CR_103520</td>\n",
              "      <td>05-MAR-04</td>\n",
              "      <td>0</td>\n",
              "      <td>44</td>\n",
              "      <td>44</td>\n",
              "      <td>1</td>\n",
              "      <td>3</td>\n",
              "      <td>7</td>\n",
              "      <td>1</td>\n",
              "      <td>4</td>\n",
              "      <td>6</td>\n",
              "      <td>1</td>\n",
              "      <td>316</td>\n",
              "      <td>0.0</td>\n",
              "      <td>12</td>\n",
              "      <td>29</td>\n",
              "      <td>34</td>\n",
              "    </tr>\n",
              "    <tr>\n",
              "      <th>2</th>\n",
              "      <td>CR_196089</td>\n",
              "      <td>27-JAN-18</td>\n",
              "      <td>0</td>\n",
              "      <td>34</td>\n",
              "      <td>33</td>\n",
              "      <td>3</td>\n",
              "      <td>5</td>\n",
              "      <td>2</td>\n",
              "      <td>7</td>\n",
              "      <td>3</td>\n",
              "      <td>0</td>\n",
              "      <td>1</td>\n",
              "      <td>316</td>\n",
              "      <td>1.0</td>\n",
              "      <td>72</td>\n",
              "      <td>0</td>\n",
              "      <td>34</td>\n",
              "    </tr>\n",
              "  </tbody>\n",
              "</table>\n",
              "</div>"
            ],
            "text/plain": [
              "  INCIDENT_ID       DATE  X_1  X_2  X_3  ...  X_11  X_12  X_13  X_14  X_15\n",
              "0   CR_195453  01-FEB-18    0   30   35  ...   174   NaN    72   119    23\n",
              "1   CR_103520  05-MAR-04    0   44   44  ...   316   0.0    12    29    34\n",
              "2   CR_196089  27-JAN-18    0   34   33  ...   316   1.0    72     0    34\n",
              "\n",
              "[3 rows x 17 columns]"
            ]
          },
          "metadata": {
            "tags": []
          },
          "execution_count": 12
        }
      ]
    },
    {
      "cell_type": "code",
      "metadata": {
        "id": "QFnxKz9K1z-O",
        "colab_type": "code",
        "colab": {
          "base_uri": "https://localhost:8080/",
          "height": 142
        },
        "outputId": "8f72bfe7-b902-4fa3-f67b-9a590740b48d"
      },
      "source": [
        "test_data.tail(3)"
      ],
      "execution_count": null,
      "outputs": [
        {
          "output_type": "execute_result",
          "data": {
            "text/html": [
              "<div>\n",
              "<style scoped>\n",
              "    .dataframe tbody tr th:only-of-type {\n",
              "        vertical-align: middle;\n",
              "    }\n",
              "\n",
              "    .dataframe tbody tr th {\n",
              "        vertical-align: top;\n",
              "    }\n",
              "\n",
              "    .dataframe thead th {\n",
              "        text-align: right;\n",
              "    }\n",
              "</style>\n",
              "<table border=\"1\" class=\"dataframe\">\n",
              "  <thead>\n",
              "    <tr style=\"text-align: right;\">\n",
              "      <th></th>\n",
              "      <th>INCIDENT_ID</th>\n",
              "      <th>DATE</th>\n",
              "      <th>X_1</th>\n",
              "      <th>X_2</th>\n",
              "      <th>X_3</th>\n",
              "      <th>X_4</th>\n",
              "      <th>X_5</th>\n",
              "      <th>X_6</th>\n",
              "      <th>X_7</th>\n",
              "      <th>X_8</th>\n",
              "      <th>X_9</th>\n",
              "      <th>X_10</th>\n",
              "      <th>X_11</th>\n",
              "      <th>X_12</th>\n",
              "      <th>X_13</th>\n",
              "      <th>X_14</th>\n",
              "      <th>X_15</th>\n",
              "    </tr>\n",
              "  </thead>\n",
              "  <tbody>\n",
              "    <tr>\n",
              "      <th>15900</th>\n",
              "      <td>CR_115946</td>\n",
              "      <td>22-APR-06</td>\n",
              "      <td>0</td>\n",
              "      <td>26</td>\n",
              "      <td>27</td>\n",
              "      <td>9</td>\n",
              "      <td>0</td>\n",
              "      <td>6</td>\n",
              "      <td>4</td>\n",
              "      <td>2</td>\n",
              "      <td>6</td>\n",
              "      <td>1</td>\n",
              "      <td>0</td>\n",
              "      <td>1.0</td>\n",
              "      <td>72</td>\n",
              "      <td>62</td>\n",
              "      <td>34</td>\n",
              "    </tr>\n",
              "    <tr>\n",
              "      <th>15901</th>\n",
              "      <td>CR_137663</td>\n",
              "      <td>03-APR-09</td>\n",
              "      <td>0</td>\n",
              "      <td>21</td>\n",
              "      <td>23</td>\n",
              "      <td>4</td>\n",
              "      <td>1</td>\n",
              "      <td>2</td>\n",
              "      <td>7</td>\n",
              "      <td>1</td>\n",
              "      <td>6</td>\n",
              "      <td>2</td>\n",
              "      <td>249</td>\n",
              "      <td>2.0</td>\n",
              "      <td>92</td>\n",
              "      <td>62</td>\n",
              "      <td>34</td>\n",
              "    </tr>\n",
              "    <tr>\n",
              "      <th>15902</th>\n",
              "      <td>CR_33545</td>\n",
              "      <td>24-APR-96</td>\n",
              "      <td>0</td>\n",
              "      <td>4</td>\n",
              "      <td>4</td>\n",
              "      <td>6</td>\n",
              "      <td>5</td>\n",
              "      <td>4</td>\n",
              "      <td>2</td>\n",
              "      <td>5</td>\n",
              "      <td>6</td>\n",
              "      <td>1</td>\n",
              "      <td>249</td>\n",
              "      <td>1.0</td>\n",
              "      <td>72</td>\n",
              "      <td>29</td>\n",
              "      <td>34</td>\n",
              "    </tr>\n",
              "  </tbody>\n",
              "</table>\n",
              "</div>"
            ],
            "text/plain": [
              "      INCIDENT_ID       DATE  X_1  X_2  X_3  ...  X_11  X_12  X_13  X_14  X_15\n",
              "15900   CR_115946  22-APR-06    0   26   27  ...     0   1.0    72    62    34\n",
              "15901   CR_137663  03-APR-09    0   21   23  ...   249   2.0    92    62    34\n",
              "15902    CR_33545  24-APR-96    0    4    4  ...   249   1.0    72    29    34\n",
              "\n",
              "[3 rows x 17 columns]"
            ]
          },
          "metadata": {
            "tags": []
          },
          "execution_count": 14
        }
      ]
    },
    {
      "cell_type": "code",
      "metadata": {
        "id": "Z4tm8mfH11tl",
        "colab_type": "code",
        "colab": {}
      },
      "source": [
        ""
      ],
      "execution_count": null,
      "outputs": []
    },
    {
      "cell_type": "markdown",
      "metadata": {
        "id": "hC6cpQ42120O",
        "colab_type": "text"
      },
      "source": [
        "## Understanding the data"
      ]
    },
    {
      "cell_type": "code",
      "metadata": {
        "id": "J7kz0opE17nb",
        "colab_type": "code",
        "colab": {}
      },
      "source": [
        "def understand_data(data) :\n",
        "    return(pd.DataFrame({\"Datatype\":data.dtypes,\"No of NAs\":data.isna().sum(),\n",
        "                         \"No of Levels\":data.apply(lambda x: x.nunique(),axis=0),\"Levels\":data.apply(lambda x: str(x.unique()),axis=0)}))"
      ],
      "execution_count": null,
      "outputs": []
    },
    {
      "cell_type": "code",
      "metadata": {
        "id": "1dIr4XRI2CW3",
        "colab_type": "code",
        "colab": {
          "base_uri": "https://localhost:8080/",
          "height": 607
        },
        "outputId": "0cdc22c9-e839-4e1d-e65f-201c18acdc6d"
      },
      "source": [
        "understand_data(train_data)"
      ],
      "execution_count": null,
      "outputs": [
        {
          "output_type": "execute_result",
          "data": {
            "text/html": [
              "<div>\n",
              "<style scoped>\n",
              "    .dataframe tbody tr th:only-of-type {\n",
              "        vertical-align: middle;\n",
              "    }\n",
              "\n",
              "    .dataframe tbody tr th {\n",
              "        vertical-align: top;\n",
              "    }\n",
              "\n",
              "    .dataframe thead th {\n",
              "        text-align: right;\n",
              "    }\n",
              "</style>\n",
              "<table border=\"1\" class=\"dataframe\">\n",
              "  <thead>\n",
              "    <tr style=\"text-align: right;\">\n",
              "      <th></th>\n",
              "      <th>Datatype</th>\n",
              "      <th>No of NAs</th>\n",
              "      <th>No of Levels</th>\n",
              "      <th>Levels</th>\n",
              "    </tr>\n",
              "  </thead>\n",
              "  <tbody>\n",
              "    <tr>\n",
              "      <th>INCIDENT_ID</th>\n",
              "      <td>object</td>\n",
              "      <td>0</td>\n",
              "      <td>23856</td>\n",
              "      <td>['CR_102659' 'CR_189752' 'CR_184637' ... 'CR_1...</td>\n",
              "    </tr>\n",
              "    <tr>\n",
              "      <th>DATE</th>\n",
              "      <td>object</td>\n",
              "      <td>0</td>\n",
              "      <td>9121</td>\n",
              "      <td>['04-JUL-04' '18-JUL-17' '15-MAR-17' ... '14-S...</td>\n",
              "    </tr>\n",
              "    <tr>\n",
              "      <th>X_1</th>\n",
              "      <td>int64</td>\n",
              "      <td>0</td>\n",
              "      <td>8</td>\n",
              "      <td>[0 1 5 7 3 4 2 6]</td>\n",
              "    </tr>\n",
              "    <tr>\n",
              "      <th>X_2</th>\n",
              "      <td>int64</td>\n",
              "      <td>0</td>\n",
              "      <td>52</td>\n",
              "      <td>[36 37 3 33 45 30 8 49 4 7 25 21 47 22 15 16 1...</td>\n",
              "    </tr>\n",
              "    <tr>\n",
              "      <th>X_3</th>\n",
              "      <td>int64</td>\n",
              "      <td>0</td>\n",
              "      <td>52</td>\n",
              "      <td>[34 37 2 32 45 35 7 49 4 8 25 23 48 22 14 15 1...</td>\n",
              "    </tr>\n",
              "    <tr>\n",
              "      <th>X_4</th>\n",
              "      <td>int64</td>\n",
              "      <td>0</td>\n",
              "      <td>10</td>\n",
              "      <td>[2 0 3 10 7 6 9 4 1 5]</td>\n",
              "    </tr>\n",
              "    <tr>\n",
              "      <th>X_5</th>\n",
              "      <td>int64</td>\n",
              "      <td>0</td>\n",
              "      <td>5</td>\n",
              "      <td>[1 0 5 3 2]</td>\n",
              "    </tr>\n",
              "    <tr>\n",
              "      <th>X_6</th>\n",
              "      <td>int64</td>\n",
              "      <td>0</td>\n",
              "      <td>19</td>\n",
              "      <td>[5 11 1 7 8 9 15 2 4 13 3 16 6 18 12 17 14 10 19]</td>\n",
              "    </tr>\n",
              "    <tr>\n",
              "      <th>X_7</th>\n",
              "      <td>int64</td>\n",
              "      <td>0</td>\n",
              "      <td>19</td>\n",
              "      <td>[6 17 0 1 3 8 10 7 2 18 5 12 4 13 16 11 14 15 9]</td>\n",
              "    </tr>\n",
              "    <tr>\n",
              "      <th>X_8</th>\n",
              "      <td>int64</td>\n",
              "      <td>0</td>\n",
              "      <td>24</td>\n",
              "      <td>[1 2 0 3 4 5 7 6 12 10 8 20 11 15 9 99 14 13 3...</td>\n",
              "    </tr>\n",
              "    <tr>\n",
              "      <th>X_9</th>\n",
              "      <td>int64</td>\n",
              "      <td>0</td>\n",
              "      <td>7</td>\n",
              "      <td>[6 3 5 1 2 0 4]</td>\n",
              "    </tr>\n",
              "    <tr>\n",
              "      <th>X_10</th>\n",
              "      <td>int64</td>\n",
              "      <td>0</td>\n",
              "      <td>24</td>\n",
              "      <td>[1 2 3 4 6 12 5 11 10 90 20 8 16 30 19 7 50 9 ...</td>\n",
              "    </tr>\n",
              "    <tr>\n",
              "      <th>X_11</th>\n",
              "      <td>int64</td>\n",
              "      <td>0</td>\n",
              "      <td>133</td>\n",
              "      <td>[174 236 249 303 316 145 0 127 299 158 12 74 3...</td>\n",
              "    </tr>\n",
              "    <tr>\n",
              "      <th>X_12</th>\n",
              "      <td>float64</td>\n",
              "      <td>182</td>\n",
              "      <td>23</td>\n",
              "      <td>[1.0 0.0 3.0 2.0 6.0 12.0 4.0 nan 5.0 11.0 90....</td>\n",
              "    </tr>\n",
              "    <tr>\n",
              "      <th>X_13</th>\n",
              "      <td>int64</td>\n",
              "      <td>0</td>\n",
              "      <td>60</td>\n",
              "      <td>[92 103 110 72 112 42 18 2 98 67 116 111 12 34...</td>\n",
              "    </tr>\n",
              "    <tr>\n",
              "      <th>X_14</th>\n",
              "      <td>int64</td>\n",
              "      <td>0</td>\n",
              "      <td>62</td>\n",
              "      <td>[29 142 93 62 14 130 133 115 53 80 103 77 107 ...</td>\n",
              "    </tr>\n",
              "    <tr>\n",
              "      <th>X_15</th>\n",
              "      <td>int64</td>\n",
              "      <td>0</td>\n",
              "      <td>28</td>\n",
              "      <td>[36 34 43 48 46 0 23 9 50 39 24 14 21 41 8 18 ...</td>\n",
              "    </tr>\n",
              "    <tr>\n",
              "      <th>MULTIPLE_OFFENSE</th>\n",
              "      <td>int64</td>\n",
              "      <td>0</td>\n",
              "      <td>2</td>\n",
              "      <td>[0 1]</td>\n",
              "    </tr>\n",
              "  </tbody>\n",
              "</table>\n",
              "</div>"
            ],
            "text/plain": [
              "                 Datatype  ...                                             Levels\n",
              "INCIDENT_ID        object  ...  ['CR_102659' 'CR_189752' 'CR_184637' ... 'CR_1...\n",
              "DATE               object  ...  ['04-JUL-04' '18-JUL-17' '15-MAR-17' ... '14-S...\n",
              "X_1                 int64  ...                                  [0 1 5 7 3 4 2 6]\n",
              "X_2                 int64  ...  [36 37 3 33 45 30 8 49 4 7 25 21 47 22 15 16 1...\n",
              "X_3                 int64  ...  [34 37 2 32 45 35 7 49 4 8 25 23 48 22 14 15 1...\n",
              "X_4                 int64  ...                             [2 0 3 10 7 6 9 4 1 5]\n",
              "X_5                 int64  ...                                        [1 0 5 3 2]\n",
              "X_6                 int64  ...  [5 11 1 7 8 9 15 2 4 13 3 16 6 18 12 17 14 10 19]\n",
              "X_7                 int64  ...   [6 17 0 1 3 8 10 7 2 18 5 12 4 13 16 11 14 15 9]\n",
              "X_8                 int64  ...  [1 2 0 3 4 5 7 6 12 10 8 20 11 15 9 99 14 13 3...\n",
              "X_9                 int64  ...                                    [6 3 5 1 2 0 4]\n",
              "X_10                int64  ...  [1 2 3 4 6 12 5 11 10 90 20 8 16 30 19 7 50 9 ...\n",
              "X_11                int64  ...  [174 236 249 303 316 145 0 127 299 158 12 74 3...\n",
              "X_12              float64  ...  [1.0 0.0 3.0 2.0 6.0 12.0 4.0 nan 5.0 11.0 90....\n",
              "X_13                int64  ...  [92 103 110 72 112 42 18 2 98 67 116 111 12 34...\n",
              "X_14                int64  ...  [29 142 93 62 14 130 133 115 53 80 103 77 107 ...\n",
              "X_15                int64  ...  [36 34 43 48 46 0 23 9 50 39 24 14 21 41 8 18 ...\n",
              "MULTIPLE_OFFENSE    int64  ...                                              [0 1]\n",
              "\n",
              "[18 rows x 4 columns]"
            ]
          },
          "metadata": {
            "tags": []
          },
          "execution_count": 16
        }
      ]
    },
    {
      "cell_type": "code",
      "metadata": {
        "id": "EdsLStox2RFW",
        "colab_type": "code",
        "colab": {
          "base_uri": "https://localhost:8080/",
          "height": 576
        },
        "outputId": "5faea5ef-31ef-416c-c542-d2e83da7feb1"
      },
      "source": [
        "understand_data(test_data)"
      ],
      "execution_count": null,
      "outputs": [
        {
          "output_type": "execute_result",
          "data": {
            "text/html": [
              "<div>\n",
              "<style scoped>\n",
              "    .dataframe tbody tr th:only-of-type {\n",
              "        vertical-align: middle;\n",
              "    }\n",
              "\n",
              "    .dataframe tbody tr th {\n",
              "        vertical-align: top;\n",
              "    }\n",
              "\n",
              "    .dataframe thead th {\n",
              "        text-align: right;\n",
              "    }\n",
              "</style>\n",
              "<table border=\"1\" class=\"dataframe\">\n",
              "  <thead>\n",
              "    <tr style=\"text-align: right;\">\n",
              "      <th></th>\n",
              "      <th>Datatype</th>\n",
              "      <th>No of NAs</th>\n",
              "      <th>No of Levels</th>\n",
              "      <th>Levels</th>\n",
              "    </tr>\n",
              "  </thead>\n",
              "  <tbody>\n",
              "    <tr>\n",
              "      <th>INCIDENT_ID</th>\n",
              "      <td>object</td>\n",
              "      <td>0</td>\n",
              "      <td>15903</td>\n",
              "      <td>['CR_195453' 'CR_103520' 'CR_196089' ... 'CR_1...</td>\n",
              "    </tr>\n",
              "    <tr>\n",
              "      <th>DATE</th>\n",
              "      <td>object</td>\n",
              "      <td>0</td>\n",
              "      <td>7939</td>\n",
              "      <td>['01-FEB-18' '05-MAR-04' '27-JAN-18' ... '07-M...</td>\n",
              "    </tr>\n",
              "    <tr>\n",
              "      <th>X_1</th>\n",
              "      <td>int64</td>\n",
              "      <td>0</td>\n",
              "      <td>8</td>\n",
              "      <td>[0 7 1 5 3 4 2 6]</td>\n",
              "    </tr>\n",
              "    <tr>\n",
              "      <th>X_2</th>\n",
              "      <td>int64</td>\n",
              "      <td>0</td>\n",
              "      <td>52</td>\n",
              "      <td>[30 44 34 3 7 47 33 21 36 16 4 26 5 49 6 9 25 ...</td>\n",
              "    </tr>\n",
              "    <tr>\n",
              "      <th>X_3</th>\n",
              "      <td>int64</td>\n",
              "      <td>0</td>\n",
              "      <td>52</td>\n",
              "      <td>[35 44 33 2 8 48 32 23 34 15 4 27 5 49 6 10 25...</td>\n",
              "    </tr>\n",
              "    <tr>\n",
              "      <th>X_4</th>\n",
              "      <td>int64</td>\n",
              "      <td>0</td>\n",
              "      <td>10</td>\n",
              "      <td>[7 1 3 2 4 0 6 9 10 5]</td>\n",
              "    </tr>\n",
              "    <tr>\n",
              "      <th>X_5</th>\n",
              "      <td>int64</td>\n",
              "      <td>0</td>\n",
              "      <td>5</td>\n",
              "      <td>[3 5 1 0 2]</td>\n",
              "    </tr>\n",
              "    <tr>\n",
              "      <th>X_6</th>\n",
              "      <td>int64</td>\n",
              "      <td>0</td>\n",
              "      <td>19</td>\n",
              "      <td>[6 7 2 9 4 5 1 3 16 15 11 18 8 12 14 17 13 19 10]</td>\n",
              "    </tr>\n",
              "    <tr>\n",
              "      <th>X_7</th>\n",
              "      <td>int64</td>\n",
              "      <td>0</td>\n",
              "      <td>19</td>\n",
              "      <td>[4 1 7 8 2 6 0 5 12 10 17 13 3 16 14 11 18 9 15]</td>\n",
              "    </tr>\n",
              "    <tr>\n",
              "      <th>X_8</th>\n",
              "      <td>int64</td>\n",
              "      <td>0</td>\n",
              "      <td>22</td>\n",
              "      <td>[0 4 3 1 2 12 5 6 40 7 8 20 11 10 25 9 18 30 1...</td>\n",
              "    </tr>\n",
              "    <tr>\n",
              "      <th>X_9</th>\n",
              "      <td>int64</td>\n",
              "      <td>0</td>\n",
              "      <td>7</td>\n",
              "      <td>[5 6 0 2 3 1 4]</td>\n",
              "    </tr>\n",
              "    <tr>\n",
              "      <th>X_10</th>\n",
              "      <td>int64</td>\n",
              "      <td>0</td>\n",
              "      <td>18</td>\n",
              "      <td>[1 7 2 5 3 6 4 28 10 18 9 8 14 11 20 40 15 12]</td>\n",
              "    </tr>\n",
              "    <tr>\n",
              "      <th>X_11</th>\n",
              "      <td>int64</td>\n",
              "      <td>0</td>\n",
              "      <td>106</td>\n",
              "      <td>[174 316 0 249 179 303 313 299 43 60 200 325 1...</td>\n",
              "    </tr>\n",
              "    <tr>\n",
              "      <th>X_12</th>\n",
              "      <td>float64</td>\n",
              "      <td>127</td>\n",
              "      <td>17</td>\n",
              "      <td>[nan 0.0 1.0 7.0 2.0 5.0 3.0 6.0 4.0 18.0 9.0 ...</td>\n",
              "    </tr>\n",
              "    <tr>\n",
              "      <th>X_13</th>\n",
              "      <td>int64</td>\n",
              "      <td>0</td>\n",
              "      <td>54</td>\n",
              "      <td>[72 12 112 34 103 92 98 48 116 31 84 67 24 18 ...</td>\n",
              "    </tr>\n",
              "    <tr>\n",
              "      <th>X_14</th>\n",
              "      <td>int64</td>\n",
              "      <td>0</td>\n",
              "      <td>51</td>\n",
              "      <td>[119 29 0 87 93 103 80 62 142 133 6 130 107 14...</td>\n",
              "    </tr>\n",
              "    <tr>\n",
              "      <th>X_15</th>\n",
              "      <td>int64</td>\n",
              "      <td>0</td>\n",
              "      <td>29</td>\n",
              "      <td>[23 34 43 48 0 36 46 18 40 38 9 11 39 41 50 3 ...</td>\n",
              "    </tr>\n",
              "  </tbody>\n",
              "</table>\n",
              "</div>"
            ],
            "text/plain": [
              "            Datatype  ...                                             Levels\n",
              "INCIDENT_ID   object  ...  ['CR_195453' 'CR_103520' 'CR_196089' ... 'CR_1...\n",
              "DATE          object  ...  ['01-FEB-18' '05-MAR-04' '27-JAN-18' ... '07-M...\n",
              "X_1            int64  ...                                  [0 7 1 5 3 4 2 6]\n",
              "X_2            int64  ...  [30 44 34 3 7 47 33 21 36 16 4 26 5 49 6 9 25 ...\n",
              "X_3            int64  ...  [35 44 33 2 8 48 32 23 34 15 4 27 5 49 6 10 25...\n",
              "X_4            int64  ...                             [7 1 3 2 4 0 6 9 10 5]\n",
              "X_5            int64  ...                                        [3 5 1 0 2]\n",
              "X_6            int64  ...  [6 7 2 9 4 5 1 3 16 15 11 18 8 12 14 17 13 19 10]\n",
              "X_7            int64  ...   [4 1 7 8 2 6 0 5 12 10 17 13 3 16 14 11 18 9 15]\n",
              "X_8            int64  ...  [0 4 3 1 2 12 5 6 40 7 8 20 11 10 25 9 18 30 1...\n",
              "X_9            int64  ...                                    [5 6 0 2 3 1 4]\n",
              "X_10           int64  ...     [1 7 2 5 3 6 4 28 10 18 9 8 14 11 20 40 15 12]\n",
              "X_11           int64  ...  [174 316 0 249 179 303 313 299 43 60 200 325 1...\n",
              "X_12         float64  ...  [nan 0.0 1.0 7.0 2.0 5.0 3.0 6.0 4.0 18.0 9.0 ...\n",
              "X_13           int64  ...  [72 12 112 34 103 92 98 48 116 31 84 67 24 18 ...\n",
              "X_14           int64  ...  [119 29 0 87 93 103 80 62 142 133 6 130 107 14...\n",
              "X_15           int64  ...  [23 34 43 48 0 36 46 18 40 38 9 11 39 41 50 3 ...\n",
              "\n",
              "[17 rows x 4 columns]"
            ]
          },
          "metadata": {
            "tags": []
          },
          "execution_count": 18
        }
      ]
    },
    {
      "cell_type": "code",
      "metadata": {
        "id": "DQPehMh04Is2",
        "colab_type": "code",
        "colab": {}
      },
      "source": [
        "## set index for train and test\n",
        "train_data.set_index('INCIDENT_ID',inplace=True)\n",
        "test_data.set_index('INCIDENT_ID',inplace=True)"
      ],
      "execution_count": 10,
      "outputs": []
    },
    {
      "cell_type": "code",
      "metadata": {
        "id": "acswOXqV4OmE",
        "colab_type": "code",
        "colab": {
          "base_uri": "https://localhost:8080/",
          "height": 235
        },
        "outputId": "c12df479-6a4b-4827-f412-ca5368439a73"
      },
      "source": [
        "train_data.head()"
      ],
      "execution_count": 11,
      "outputs": [
        {
          "output_type": "execute_result",
          "data": {
            "text/html": [
              "<div>\n",
              "<style scoped>\n",
              "    .dataframe tbody tr th:only-of-type {\n",
              "        vertical-align: middle;\n",
              "    }\n",
              "\n",
              "    .dataframe tbody tr th {\n",
              "        vertical-align: top;\n",
              "    }\n",
              "\n",
              "    .dataframe thead th {\n",
              "        text-align: right;\n",
              "    }\n",
              "</style>\n",
              "<table border=\"1\" class=\"dataframe\">\n",
              "  <thead>\n",
              "    <tr style=\"text-align: right;\">\n",
              "      <th></th>\n",
              "      <th>DATE</th>\n",
              "      <th>X_1</th>\n",
              "      <th>X_2</th>\n",
              "      <th>X_3</th>\n",
              "      <th>X_4</th>\n",
              "      <th>X_5</th>\n",
              "      <th>X_6</th>\n",
              "      <th>X_7</th>\n",
              "      <th>X_8</th>\n",
              "      <th>X_9</th>\n",
              "      <th>X_10</th>\n",
              "      <th>X_11</th>\n",
              "      <th>X_12</th>\n",
              "      <th>X_13</th>\n",
              "      <th>X_14</th>\n",
              "      <th>X_15</th>\n",
              "      <th>MULTIPLE_OFFENSE</th>\n",
              "    </tr>\n",
              "    <tr>\n",
              "      <th>INCIDENT_ID</th>\n",
              "      <th></th>\n",
              "      <th></th>\n",
              "      <th></th>\n",
              "      <th></th>\n",
              "      <th></th>\n",
              "      <th></th>\n",
              "      <th></th>\n",
              "      <th></th>\n",
              "      <th></th>\n",
              "      <th></th>\n",
              "      <th></th>\n",
              "      <th></th>\n",
              "      <th></th>\n",
              "      <th></th>\n",
              "      <th></th>\n",
              "      <th></th>\n",
              "      <th></th>\n",
              "    </tr>\n",
              "  </thead>\n",
              "  <tbody>\n",
              "    <tr>\n",
              "      <th>CR_102659</th>\n",
              "      <td>04-JUL-04</td>\n",
              "      <td>0</td>\n",
              "      <td>36</td>\n",
              "      <td>34</td>\n",
              "      <td>2</td>\n",
              "      <td>1</td>\n",
              "      <td>5</td>\n",
              "      <td>6</td>\n",
              "      <td>1</td>\n",
              "      <td>6</td>\n",
              "      <td>1</td>\n",
              "      <td>174</td>\n",
              "      <td>1.0</td>\n",
              "      <td>92</td>\n",
              "      <td>29</td>\n",
              "      <td>36</td>\n",
              "      <td>0</td>\n",
              "    </tr>\n",
              "    <tr>\n",
              "      <th>CR_189752</th>\n",
              "      <td>18-JUL-17</td>\n",
              "      <td>1</td>\n",
              "      <td>37</td>\n",
              "      <td>37</td>\n",
              "      <td>0</td>\n",
              "      <td>0</td>\n",
              "      <td>11</td>\n",
              "      <td>17</td>\n",
              "      <td>1</td>\n",
              "      <td>6</td>\n",
              "      <td>1</td>\n",
              "      <td>236</td>\n",
              "      <td>1.0</td>\n",
              "      <td>103</td>\n",
              "      <td>142</td>\n",
              "      <td>34</td>\n",
              "      <td>1</td>\n",
              "    </tr>\n",
              "    <tr>\n",
              "      <th>CR_184637</th>\n",
              "      <td>15-MAR-17</td>\n",
              "      <td>0</td>\n",
              "      <td>3</td>\n",
              "      <td>2</td>\n",
              "      <td>3</td>\n",
              "      <td>5</td>\n",
              "      <td>1</td>\n",
              "      <td>0</td>\n",
              "      <td>2</td>\n",
              "      <td>3</td>\n",
              "      <td>1</td>\n",
              "      <td>174</td>\n",
              "      <td>1.0</td>\n",
              "      <td>110</td>\n",
              "      <td>93</td>\n",
              "      <td>34</td>\n",
              "      <td>1</td>\n",
              "    </tr>\n",
              "    <tr>\n",
              "      <th>CR_139071</th>\n",
              "      <td>13-FEB-09</td>\n",
              "      <td>0</td>\n",
              "      <td>33</td>\n",
              "      <td>32</td>\n",
              "      <td>2</td>\n",
              "      <td>1</td>\n",
              "      <td>7</td>\n",
              "      <td>1</td>\n",
              "      <td>1</td>\n",
              "      <td>6</td>\n",
              "      <td>1</td>\n",
              "      <td>249</td>\n",
              "      <td>1.0</td>\n",
              "      <td>72</td>\n",
              "      <td>29</td>\n",
              "      <td>34</td>\n",
              "      <td>1</td>\n",
              "    </tr>\n",
              "    <tr>\n",
              "      <th>CR_109335</th>\n",
              "      <td>13-APR-05</td>\n",
              "      <td>0</td>\n",
              "      <td>33</td>\n",
              "      <td>32</td>\n",
              "      <td>2</td>\n",
              "      <td>1</td>\n",
              "      <td>8</td>\n",
              "      <td>3</td>\n",
              "      <td>0</td>\n",
              "      <td>5</td>\n",
              "      <td>1</td>\n",
              "      <td>174</td>\n",
              "      <td>0.0</td>\n",
              "      <td>112</td>\n",
              "      <td>29</td>\n",
              "      <td>43</td>\n",
              "      <td>1</td>\n",
              "    </tr>\n",
              "  </tbody>\n",
              "</table>\n",
              "</div>"
            ],
            "text/plain": [
              "                  DATE  X_1  X_2  X_3  ...  X_13  X_14  X_15  MULTIPLE_OFFENSE\n",
              "INCIDENT_ID                            ...                                    \n",
              "CR_102659    04-JUL-04    0   36   34  ...    92    29    36                 0\n",
              "CR_189752    18-JUL-17    1   37   37  ...   103   142    34                 1\n",
              "CR_184637    15-MAR-17    0    3    2  ...   110    93    34                 1\n",
              "CR_139071    13-FEB-09    0   33   32  ...    72    29    34                 1\n",
              "CR_109335    13-APR-05    0   33   32  ...   112    29    43                 1\n",
              "\n",
              "[5 rows x 17 columns]"
            ]
          },
          "metadata": {
            "tags": []
          },
          "execution_count": 11
        }
      ]
    },
    {
      "cell_type": "code",
      "metadata": {
        "id": "C6ouh1LW4XIc",
        "colab_type": "code",
        "colab": {
          "base_uri": "https://localhost:8080/",
          "height": 235
        },
        "outputId": "582d96f8-cafc-43e0-be02-b8cabfd5d615"
      },
      "source": [
        "test_data.head()"
      ],
      "execution_count": null,
      "outputs": [
        {
          "output_type": "execute_result",
          "data": {
            "text/html": [
              "<div>\n",
              "<style scoped>\n",
              "    .dataframe tbody tr th:only-of-type {\n",
              "        vertical-align: middle;\n",
              "    }\n",
              "\n",
              "    .dataframe tbody tr th {\n",
              "        vertical-align: top;\n",
              "    }\n",
              "\n",
              "    .dataframe thead th {\n",
              "        text-align: right;\n",
              "    }\n",
              "</style>\n",
              "<table border=\"1\" class=\"dataframe\">\n",
              "  <thead>\n",
              "    <tr style=\"text-align: right;\">\n",
              "      <th></th>\n",
              "      <th>DATE</th>\n",
              "      <th>X_1</th>\n",
              "      <th>X_2</th>\n",
              "      <th>X_3</th>\n",
              "      <th>X_4</th>\n",
              "      <th>X_5</th>\n",
              "      <th>X_6</th>\n",
              "      <th>X_7</th>\n",
              "      <th>X_8</th>\n",
              "      <th>X_9</th>\n",
              "      <th>X_10</th>\n",
              "      <th>X_11</th>\n",
              "      <th>X_12</th>\n",
              "      <th>X_13</th>\n",
              "      <th>X_14</th>\n",
              "      <th>X_15</th>\n",
              "    </tr>\n",
              "    <tr>\n",
              "      <th>INCIDENT_ID</th>\n",
              "      <th></th>\n",
              "      <th></th>\n",
              "      <th></th>\n",
              "      <th></th>\n",
              "      <th></th>\n",
              "      <th></th>\n",
              "      <th></th>\n",
              "      <th></th>\n",
              "      <th></th>\n",
              "      <th></th>\n",
              "      <th></th>\n",
              "      <th></th>\n",
              "      <th></th>\n",
              "      <th></th>\n",
              "      <th></th>\n",
              "      <th></th>\n",
              "    </tr>\n",
              "  </thead>\n",
              "  <tbody>\n",
              "    <tr>\n",
              "      <th>CR_195453</th>\n",
              "      <td>01-FEB-18</td>\n",
              "      <td>0</td>\n",
              "      <td>30</td>\n",
              "      <td>35</td>\n",
              "      <td>7</td>\n",
              "      <td>3</td>\n",
              "      <td>6</td>\n",
              "      <td>4</td>\n",
              "      <td>0</td>\n",
              "      <td>5</td>\n",
              "      <td>1</td>\n",
              "      <td>174</td>\n",
              "      <td>NaN</td>\n",
              "      <td>72</td>\n",
              "      <td>119</td>\n",
              "      <td>23</td>\n",
              "    </tr>\n",
              "    <tr>\n",
              "      <th>CR_103520</th>\n",
              "      <td>05-MAR-04</td>\n",
              "      <td>0</td>\n",
              "      <td>44</td>\n",
              "      <td>44</td>\n",
              "      <td>1</td>\n",
              "      <td>3</td>\n",
              "      <td>7</td>\n",
              "      <td>1</td>\n",
              "      <td>4</td>\n",
              "      <td>6</td>\n",
              "      <td>1</td>\n",
              "      <td>316</td>\n",
              "      <td>0.0</td>\n",
              "      <td>12</td>\n",
              "      <td>29</td>\n",
              "      <td>34</td>\n",
              "    </tr>\n",
              "    <tr>\n",
              "      <th>CR_196089</th>\n",
              "      <td>27-JAN-18</td>\n",
              "      <td>0</td>\n",
              "      <td>34</td>\n",
              "      <td>33</td>\n",
              "      <td>3</td>\n",
              "      <td>5</td>\n",
              "      <td>2</td>\n",
              "      <td>7</td>\n",
              "      <td>3</td>\n",
              "      <td>0</td>\n",
              "      <td>1</td>\n",
              "      <td>316</td>\n",
              "      <td>1.0</td>\n",
              "      <td>72</td>\n",
              "      <td>0</td>\n",
              "      <td>34</td>\n",
              "    </tr>\n",
              "    <tr>\n",
              "      <th>CR_112195</th>\n",
              "      <td>18-AUG-06</td>\n",
              "      <td>7</td>\n",
              "      <td>3</td>\n",
              "      <td>2</td>\n",
              "      <td>3</td>\n",
              "      <td>5</td>\n",
              "      <td>9</td>\n",
              "      <td>8</td>\n",
              "      <td>0</td>\n",
              "      <td>5</td>\n",
              "      <td>1</td>\n",
              "      <td>174</td>\n",
              "      <td>1.0</td>\n",
              "      <td>112</td>\n",
              "      <td>87</td>\n",
              "      <td>34</td>\n",
              "    </tr>\n",
              "    <tr>\n",
              "      <th>CR_149832</th>\n",
              "      <td>31-OCT-11</td>\n",
              "      <td>0</td>\n",
              "      <td>7</td>\n",
              "      <td>8</td>\n",
              "      <td>7</td>\n",
              "      <td>3</td>\n",
              "      <td>2</td>\n",
              "      <td>7</td>\n",
              "      <td>1</td>\n",
              "      <td>5</td>\n",
              "      <td>1</td>\n",
              "      <td>174</td>\n",
              "      <td>0.0</td>\n",
              "      <td>112</td>\n",
              "      <td>93</td>\n",
              "      <td>43</td>\n",
              "    </tr>\n",
              "  </tbody>\n",
              "</table>\n",
              "</div>"
            ],
            "text/plain": [
              "                  DATE  X_1  X_2  X_3  X_4  ...  X_11  X_12  X_13  X_14  X_15\n",
              "INCIDENT_ID                                 ...                              \n",
              "CR_195453    01-FEB-18    0   30   35    7  ...   174   NaN    72   119    23\n",
              "CR_103520    05-MAR-04    0   44   44    1  ...   316   0.0    12    29    34\n",
              "CR_196089    27-JAN-18    0   34   33    3  ...   316   1.0    72     0    34\n",
              "CR_112195    18-AUG-06    7    3    2    3  ...   174   1.0   112    87    34\n",
              "CR_149832    31-OCT-11    0    7    8    7  ...   174   0.0   112    93    43\n",
              "\n",
              "[5 rows x 16 columns]"
            ]
          },
          "metadata": {
            "tags": []
          },
          "execution_count": 23
        }
      ]
    },
    {
      "cell_type": "code",
      "metadata": {
        "id": "T-e_bNFD3-es",
        "colab_type": "code",
        "colab": {
          "base_uri": "https://localhost:8080/",
          "height": 323
        },
        "outputId": "a1ace8eb-9547-4742-8033-7cb86f7fc0b5"
      },
      "source": [
        "train_data.dtypes"
      ],
      "execution_count": null,
      "outputs": [
        {
          "output_type": "execute_result",
          "data": {
            "text/plain": [
              "DATE                 object\n",
              "X_1                   int64\n",
              "X_2                   int64\n",
              "X_3                   int64\n",
              "X_4                   int64\n",
              "X_5                   int64\n",
              "X_6                   int64\n",
              "X_7                   int64\n",
              "X_8                   int64\n",
              "X_9                   int64\n",
              "X_10                  int64\n",
              "X_11                  int64\n",
              "X_12                float64\n",
              "X_13                  int64\n",
              "X_14                  int64\n",
              "X_15                  int64\n",
              "MULTIPLE_OFFENSE      int64\n",
              "dtype: object"
            ]
          },
          "metadata": {
            "tags": []
          },
          "execution_count": 24
        }
      ]
    },
    {
      "cell_type": "code",
      "metadata": {
        "id": "tv6TwHv653xI",
        "colab_type": "code",
        "colab": {}
      },
      "source": [
        "### Feature Extraction\n",
        "train_data['date']=pd.to_datetime(train_data['DATE'])"
      ],
      "execution_count": 12,
      "outputs": []
    },
    {
      "cell_type": "code",
      "metadata": {
        "id": "UmY0XkOX6Mn7",
        "colab_type": "code",
        "colab": {}
      },
      "source": [
        "test_data['date']=pd.to_datetime(test_data['DATE'])"
      ],
      "execution_count": 13,
      "outputs": []
    },
    {
      "cell_type": "code",
      "metadata": {
        "id": "R-EphpPp6Ux5",
        "colab_type": "code",
        "colab": {}
      },
      "source": [
        "## Extract date from date in train_data\n",
        "train_data['date']= [d.date() for d in train_data['date']]"
      ],
      "execution_count": 14,
      "outputs": []
    },
    {
      "cell_type": "code",
      "metadata": {
        "id": "IeJkw5zP6rco",
        "colab_type": "code",
        "colab": {}
      },
      "source": [
        "## Extract date from date in test_data\n",
        "test_data['date']= [d.date() for d in test_data['date']]"
      ],
      "execution_count": 15,
      "outputs": []
    },
    {
      "cell_type": "code",
      "metadata": {
        "id": "MS0JpuZL61VD",
        "colab_type": "code",
        "colab": {}
      },
      "source": [
        "## Drop DATE column both in train and test data as we have extracted features from it\n",
        "train_data.drop(['DATE'], axis=1, inplace=True)\n",
        "test_data.drop(['DATE'], axis=1, inplace=True)"
      ],
      "execution_count": 16,
      "outputs": []
    },
    {
      "cell_type": "code",
      "metadata": {
        "id": "efTbk1t97N0j",
        "colab_type": "code",
        "colab": {}
      },
      "source": [
        "### Extract day, month and year from the date column \n",
        "train_data['year'] = train_data['date'].apply(lambda x: x.year)\n",
        "train_data['month'] = train_data['date'].apply(lambda x: x.month)\n",
        "train_data['day'] = train_data['date'].apply(lambda x: x.day)"
      ],
      "execution_count": 17,
      "outputs": []
    },
    {
      "cell_type": "code",
      "metadata": {
        "id": "X2Y3pQwH7XED",
        "colab_type": "code",
        "colab": {}
      },
      "source": [
        "### Extract day, month and year from the date column\n",
        "test_data['year'] = test_data['date'].apply(lambda x: x.year)\n",
        "test_data['month'] = test_data['date'].apply(lambda x: x.month)\n",
        "test_data['day'] = test_data['date'].apply(lambda x: x.day)"
      ],
      "execution_count": 18,
      "outputs": []
    },
    {
      "cell_type": "code",
      "metadata": {
        "id": "HKIXU30f7--3",
        "colab_type": "code",
        "colab": {}
      },
      "source": [
        "## drop date column once feature extraction is done from train_data\n",
        "train_data.drop(['date'],axis=1,inplace=True)"
      ],
      "execution_count": 19,
      "outputs": []
    },
    {
      "cell_type": "code",
      "metadata": {
        "id": "ZB1LSG4b8QyI",
        "colab_type": "code",
        "colab": {}
      },
      "source": [
        "## drop date column once feature extraction is done from test_data\n",
        "test_data.drop(['date'],axis=1,inplace=True)"
      ],
      "execution_count": 20,
      "outputs": []
    },
    {
      "cell_type": "code",
      "metadata": {
        "id": "upgU56Eo8V36",
        "colab_type": "code",
        "colab": {
          "base_uri": "https://localhost:8080/",
          "height": 111
        },
        "outputId": "dbd89153-ab19-48a1-d53d-54c04a112b5f"
      },
      "source": [
        "train_data.head(1)"
      ],
      "execution_count": 21,
      "outputs": [
        {
          "output_type": "execute_result",
          "data": {
            "text/html": [
              "<div>\n",
              "<style scoped>\n",
              "    .dataframe tbody tr th:only-of-type {\n",
              "        vertical-align: middle;\n",
              "    }\n",
              "\n",
              "    .dataframe tbody tr th {\n",
              "        vertical-align: top;\n",
              "    }\n",
              "\n",
              "    .dataframe thead th {\n",
              "        text-align: right;\n",
              "    }\n",
              "</style>\n",
              "<table border=\"1\" class=\"dataframe\">\n",
              "  <thead>\n",
              "    <tr style=\"text-align: right;\">\n",
              "      <th></th>\n",
              "      <th>X_1</th>\n",
              "      <th>X_2</th>\n",
              "      <th>X_3</th>\n",
              "      <th>X_4</th>\n",
              "      <th>X_5</th>\n",
              "      <th>X_6</th>\n",
              "      <th>X_7</th>\n",
              "      <th>X_8</th>\n",
              "      <th>X_9</th>\n",
              "      <th>X_10</th>\n",
              "      <th>X_11</th>\n",
              "      <th>X_12</th>\n",
              "      <th>X_13</th>\n",
              "      <th>X_14</th>\n",
              "      <th>X_15</th>\n",
              "      <th>MULTIPLE_OFFENSE</th>\n",
              "      <th>year</th>\n",
              "      <th>month</th>\n",
              "      <th>day</th>\n",
              "    </tr>\n",
              "    <tr>\n",
              "      <th>INCIDENT_ID</th>\n",
              "      <th></th>\n",
              "      <th></th>\n",
              "      <th></th>\n",
              "      <th></th>\n",
              "      <th></th>\n",
              "      <th></th>\n",
              "      <th></th>\n",
              "      <th></th>\n",
              "      <th></th>\n",
              "      <th></th>\n",
              "      <th></th>\n",
              "      <th></th>\n",
              "      <th></th>\n",
              "      <th></th>\n",
              "      <th></th>\n",
              "      <th></th>\n",
              "      <th></th>\n",
              "      <th></th>\n",
              "      <th></th>\n",
              "    </tr>\n",
              "  </thead>\n",
              "  <tbody>\n",
              "    <tr>\n",
              "      <th>CR_102659</th>\n",
              "      <td>0</td>\n",
              "      <td>36</td>\n",
              "      <td>34</td>\n",
              "      <td>2</td>\n",
              "      <td>1</td>\n",
              "      <td>5</td>\n",
              "      <td>6</td>\n",
              "      <td>1</td>\n",
              "      <td>6</td>\n",
              "      <td>1</td>\n",
              "      <td>174</td>\n",
              "      <td>1.0</td>\n",
              "      <td>92</td>\n",
              "      <td>29</td>\n",
              "      <td>36</td>\n",
              "      <td>0</td>\n",
              "      <td>2004</td>\n",
              "      <td>7</td>\n",
              "      <td>4</td>\n",
              "    </tr>\n",
              "  </tbody>\n",
              "</table>\n",
              "</div>"
            ],
            "text/plain": [
              "             X_1  X_2  X_3  X_4  X_5  ...  X_15  MULTIPLE_OFFENSE  year  month  day\n",
              "INCIDENT_ID                           ...                                          \n",
              "CR_102659      0   36   34    2    1  ...    36                 0  2004      7    4\n",
              "\n",
              "[1 rows x 19 columns]"
            ]
          },
          "metadata": {
            "tags": []
          },
          "execution_count": 21
        }
      ]
    },
    {
      "cell_type": "code",
      "metadata": {
        "id": "2TQJdEos8ZcO",
        "colab_type": "code",
        "colab": {
          "base_uri": "https://localhost:8080/",
          "height": 111
        },
        "outputId": "acc14b47-f3fe-40b7-d2f9-fef010801cdf"
      },
      "source": [
        "test_data.head(1)"
      ],
      "execution_count": 22,
      "outputs": [
        {
          "output_type": "execute_result",
          "data": {
            "text/html": [
              "<div>\n",
              "<style scoped>\n",
              "    .dataframe tbody tr th:only-of-type {\n",
              "        vertical-align: middle;\n",
              "    }\n",
              "\n",
              "    .dataframe tbody tr th {\n",
              "        vertical-align: top;\n",
              "    }\n",
              "\n",
              "    .dataframe thead th {\n",
              "        text-align: right;\n",
              "    }\n",
              "</style>\n",
              "<table border=\"1\" class=\"dataframe\">\n",
              "  <thead>\n",
              "    <tr style=\"text-align: right;\">\n",
              "      <th></th>\n",
              "      <th>X_1</th>\n",
              "      <th>X_2</th>\n",
              "      <th>X_3</th>\n",
              "      <th>X_4</th>\n",
              "      <th>X_5</th>\n",
              "      <th>X_6</th>\n",
              "      <th>X_7</th>\n",
              "      <th>X_8</th>\n",
              "      <th>X_9</th>\n",
              "      <th>X_10</th>\n",
              "      <th>X_11</th>\n",
              "      <th>X_12</th>\n",
              "      <th>X_13</th>\n",
              "      <th>X_14</th>\n",
              "      <th>X_15</th>\n",
              "      <th>year</th>\n",
              "      <th>month</th>\n",
              "      <th>day</th>\n",
              "    </tr>\n",
              "    <tr>\n",
              "      <th>INCIDENT_ID</th>\n",
              "      <th></th>\n",
              "      <th></th>\n",
              "      <th></th>\n",
              "      <th></th>\n",
              "      <th></th>\n",
              "      <th></th>\n",
              "      <th></th>\n",
              "      <th></th>\n",
              "      <th></th>\n",
              "      <th></th>\n",
              "      <th></th>\n",
              "      <th></th>\n",
              "      <th></th>\n",
              "      <th></th>\n",
              "      <th></th>\n",
              "      <th></th>\n",
              "      <th></th>\n",
              "      <th></th>\n",
              "    </tr>\n",
              "  </thead>\n",
              "  <tbody>\n",
              "    <tr>\n",
              "      <th>CR_195453</th>\n",
              "      <td>0</td>\n",
              "      <td>30</td>\n",
              "      <td>35</td>\n",
              "      <td>7</td>\n",
              "      <td>3</td>\n",
              "      <td>6</td>\n",
              "      <td>4</td>\n",
              "      <td>0</td>\n",
              "      <td>5</td>\n",
              "      <td>1</td>\n",
              "      <td>174</td>\n",
              "      <td>NaN</td>\n",
              "      <td>72</td>\n",
              "      <td>119</td>\n",
              "      <td>23</td>\n",
              "      <td>2018</td>\n",
              "      <td>2</td>\n",
              "      <td>1</td>\n",
              "    </tr>\n",
              "  </tbody>\n",
              "</table>\n",
              "</div>"
            ],
            "text/plain": [
              "             X_1  X_2  X_3  X_4  X_5  X_6  ...  X_13  X_14  X_15  year  month  day\n",
              "INCIDENT_ID                                ...                                    \n",
              "CR_195453      0   30   35    7    3    6  ...    72   119    23  2018      2    1\n",
              "\n",
              "[1 rows x 18 columns]"
            ]
          },
          "metadata": {
            "tags": []
          },
          "execution_count": 22
        }
      ]
    },
    {
      "cell_type": "code",
      "metadata": {
        "id": "TOC_O2Nv8ce0",
        "colab_type": "code",
        "colab": {}
      },
      "source": [
        "## fill NA values\n",
        "train_data['X_12'].fillna(0,inplace=True)\n",
        "test_data['X_12'].fillna(0,inplace=True)"
      ],
      "execution_count": 23,
      "outputs": []
    },
    {
      "cell_type": "code",
      "metadata": {
        "id": "5F0tXBTB-lFK",
        "colab_type": "code",
        "colab": {
          "base_uri": "https://localhost:8080/",
          "height": 357
        },
        "outputId": "c1702b6d-c7e7-4a0e-9926-17068e196d89"
      },
      "source": [
        "train_data.isna().sum()"
      ],
      "execution_count": 24,
      "outputs": [
        {
          "output_type": "execute_result",
          "data": {
            "text/plain": [
              "X_1                 0\n",
              "X_2                 0\n",
              "X_3                 0\n",
              "X_4                 0\n",
              "X_5                 0\n",
              "X_6                 0\n",
              "X_7                 0\n",
              "X_8                 0\n",
              "X_9                 0\n",
              "X_10                0\n",
              "X_11                0\n",
              "X_12                0\n",
              "X_13                0\n",
              "X_14                0\n",
              "X_15                0\n",
              "MULTIPLE_OFFENSE    0\n",
              "year                0\n",
              "month               0\n",
              "day                 0\n",
              "dtype: int64"
            ]
          },
          "metadata": {
            "tags": []
          },
          "execution_count": 24
        }
      ]
    },
    {
      "cell_type": "code",
      "metadata": {
        "id": "F6kCBV5n--UW",
        "colab_type": "code",
        "colab": {
          "base_uri": "https://localhost:8080/",
          "height": 340
        },
        "outputId": "9f1994f0-68bf-4a30-8703-1bbff9376bc4"
      },
      "source": [
        "test_data.isna().sum()"
      ],
      "execution_count": 25,
      "outputs": [
        {
          "output_type": "execute_result",
          "data": {
            "text/plain": [
              "X_1      0\n",
              "X_2      0\n",
              "X_3      0\n",
              "X_4      0\n",
              "X_5      0\n",
              "X_6      0\n",
              "X_7      0\n",
              "X_8      0\n",
              "X_9      0\n",
              "X_10     0\n",
              "X_11     0\n",
              "X_12     0\n",
              "X_13     0\n",
              "X_14     0\n",
              "X_15     0\n",
              "year     0\n",
              "month    0\n",
              "day      0\n",
              "dtype: int64"
            ]
          },
          "metadata": {
            "tags": []
          },
          "execution_count": 25
        }
      ]
    },
    {
      "cell_type": "code",
      "metadata": {
        "id": "sCp0uE_N_BX0",
        "colab_type": "code",
        "colab": {
          "base_uri": "https://localhost:8080/",
          "height": 357
        },
        "outputId": "d62894ba-ccd7-4075-98d0-cb2353fb0b37"
      },
      "source": [
        "train_data.dtypes"
      ],
      "execution_count": null,
      "outputs": [
        {
          "output_type": "execute_result",
          "data": {
            "text/plain": [
              "X_1                   int64\n",
              "X_2                   int64\n",
              "X_3                   int64\n",
              "X_4                   int64\n",
              "X_5                   int64\n",
              "X_6                   int64\n",
              "X_7                   int64\n",
              "X_8                   int64\n",
              "X_9                   int64\n",
              "X_10                  int64\n",
              "X_11                  int64\n",
              "X_12                float64\n",
              "X_13                  int64\n",
              "X_14                  int64\n",
              "X_15                  int64\n",
              "MULTIPLE_OFFENSE      int64\n",
              "year                  int64\n",
              "month                 int64\n",
              "day                   int64\n",
              "dtype: object"
            ]
          },
          "metadata": {
            "tags": []
          },
          "execution_count": 48
        }
      ]
    },
    {
      "cell_type": "code",
      "metadata": {
        "id": "9g1L3QUiB-jn",
        "colab_type": "code",
        "colab": {}
      },
      "source": [
        "## Data type conversions\n",
        "train_data['X_12']=train_data['X_12'].astype('int64')\n",
        "test_data['X_12']=test_data['X_12'].astype('int64')"
      ],
      "execution_count": 26,
      "outputs": []
    },
    {
      "cell_type": "code",
      "metadata": {
        "id": "NCTL_6QPDKhY",
        "colab_type": "code",
        "colab": {}
      },
      "source": [
        "## splitting train data into both train and validation data\n",
        "X_train,X_validation,y_train,y_validation = train_test_split(train_data.drop('MULTIPLE_OFFENSE',axis=1),train_data['MULTIPLE_OFFENSE'],\n",
        "                                                             test_size=0.2,random_state=1234)"
      ],
      "execution_count": 32,
      "outputs": []
    },
    {
      "cell_type": "code",
      "metadata": {
        "id": "XmG0MdlSEBhk",
        "colab_type": "code",
        "colab": {}
      },
      "source": [
        "print(X_train.shape)\n",
        "print(y_train.shape)\n",
        "print(X_validation.shape)\n",
        "print(y_validation.shape)"
      ],
      "execution_count": null,
      "outputs": []
    },
    {
      "cell_type": "code",
      "metadata": {
        "id": "Zy_70lBOEGUa",
        "colab_type": "code",
        "colab": {}
      },
      "source": [
        "## Instantiate label encoder\n",
        "le_year = LabelEncoder()\n",
        "le_month = LabelEncoder()\n",
        "le_day = LabelEncoder()\n",
        "le_multiple_offense = LabelEncoder()"
      ],
      "execution_count": 34,
      "outputs": []
    },
    {
      "cell_type": "code",
      "metadata": {
        "id": "i1TUli7MESrc",
        "colab_type": "code",
        "colab": {}
      },
      "source": [
        "## Label encoding for train_data\n",
        "X_train['year'] = le_year.fit_transform(X_train['year'])\n",
        "X_train['month'] = le_month.fit_transform(X_train['month'])\n",
        "X_train['day'] = le_day.fit_transform(X_train['day'])"
      ],
      "execution_count": 35,
      "outputs": []
    },
    {
      "cell_type": "code",
      "metadata": {
        "id": "li8ZAKoBEVo4",
        "colab_type": "code",
        "colab": {}
      },
      "source": [
        "## Label encoding for validation_data\n",
        "X_validation['year'] = le_year.transform(X_validation['year'])\n",
        "X_validation['month'] = le_month.transform(X_validation['month'])\n",
        "X_validation['day'] = le_day.transform(X_validation['day'])"
      ],
      "execution_count": 37,
      "outputs": []
    },
    {
      "cell_type": "code",
      "metadata": {
        "id": "CdY7sEO8KKIY",
        "colab_type": "code",
        "colab": {}
      },
      "source": [
        "## Do labe encoding for test data \n",
        "test_data['year'] = le_year.transform(test_data['year'])\n",
        "test_data['month'] = le_month.transform(test_data['month'])\n",
        "test_data['day'] = le_day.transform(test_data['day'])"
      ],
      "execution_count": 38,
      "outputs": []
    },
    {
      "cell_type": "code",
      "metadata": {
        "id": "Jq_JrknGEnWf",
        "colab_type": "code",
        "colab": {}
      },
      "source": [
        "##Label encoding for the target variable\n",
        "y_train = le_multiple_offense.fit_transform(y_train)"
      ],
      "execution_count": 40,
      "outputs": []
    },
    {
      "cell_type": "code",
      "metadata": {
        "id": "C3HTumW5EvOr",
        "colab_type": "code",
        "colab": {}
      },
      "source": [
        "y_validation = le_multiple_offense.transform(y_validation)"
      ],
      "execution_count": 41,
      "outputs": []
    },
    {
      "cell_type": "code",
      "metadata": {
        "id": "Z5oJdwmLFGAO",
        "colab_type": "code",
        "colab": {}
      },
      "source": [
        "from xgboost import XGBClassifier ## XG boost model\n",
        "from sklearn.model_selection import GridSearchCV ##For Grid search(cross validation)\n",
        "from sklearn.metrics import accuracy_score ## For getting accuracy value\n",
        "from sklearn.metrics import confusion_matrix,classification_report ## For classifier metrics(accuracy,TPR,TNR)"
      ],
      "execution_count": 42,
      "outputs": []
    },
    {
      "cell_type": "code",
      "metadata": {
        "id": "gVIOGvziFSmN",
        "colab_type": "code",
        "colab": {
          "base_uri": "https://localhost:8080/",
          "height": 170
        },
        "outputId": "0ccb839a-4a0f-42e5-e808-db15ac9d7d19"
      },
      "source": [
        "xgb = XGBClassifier() ## Instantiate XGBClassifier model\n",
        "\n",
        "optimization_dict = {'max_depth': [2,3,4,5,6,7], ## trying with different max_depth,n_estimators to find best model\n",
        "                      'n_estimators': [50,60,70,80,90,100,150,200]} \n",
        "\n",
        "## Build best model with Grid Search params\n",
        "model = GridSearchCV(xgb, ## XGB model\n",
        "                     optimization_dict, ## dictory with different max_depth,n_estimators\n",
        "                     scoring='accuracy', ## on which parameter we are interested\n",
        "                     verbose=1, ## for messaging purpose\n",
        "                     n_jobs=-1) ## Number of jobs to run in parallel. ''-1' means use all processors\n",
        "\n",
        "%time model.fit(X_train, y_train) ## Fit a model\n",
        "print(model.best_score_) ## Display best score calues\n",
        "print(model.best_params_) ## Display best parameters"
      ],
      "execution_count": null,
      "outputs": [
        {
          "output_type": "stream",
          "text": [
            "Fitting 5 folds for each of 48 candidates, totalling 240 fits\n"
          ],
          "name": "stdout"
        },
        {
          "output_type": "stream",
          "text": [
            "[Parallel(n_jobs=-1)]: Using backend LokyBackend with 2 concurrent workers.\n",
            "[Parallel(n_jobs=-1)]: Done  46 tasks      | elapsed:   27.0s\n",
            "[Parallel(n_jobs=-1)]: Done 196 tasks      | elapsed:  2.9min\n",
            "[Parallel(n_jobs=-1)]: Done 240 out of 240 | elapsed:  3.9min finished\n"
          ],
          "name": "stderr"
        },
        {
          "output_type": "stream",
          "text": [
            "CPU times: user 5.25 s, sys: 165 ms, total: 5.41 s\n",
            "Wall time: 3min 54s\n",
            "0.9992663572267727\n",
            "{'max_depth': 4, 'n_estimators': 200}\n"
          ],
          "name": "stdout"
        }
      ]
    },
    {
      "cell_type": "code",
      "metadata": {
        "id": "8Jy5M8qUGhlv",
        "colab_type": "code",
        "colab": {
          "base_uri": "https://localhost:8080/",
          "height": 170
        },
        "outputId": "7ec94cf7-cce5-4102-e8f1-f61755b7178b"
      },
      "source": [
        "model = XGBClassifier(max_depth=4, n_estimators=200,learning_rate = 0.001,\n",
        "                      booster ='gbtree',random_state=1234)\n",
        "%time model.fit(X_train, y_train)"
      ],
      "execution_count": 43,
      "outputs": [
        {
          "output_type": "stream",
          "text": [
            "CPU times: user 2.7 s, sys: 11.9 ms, total: 2.71 s\n",
            "Wall time: 2.81 s\n"
          ],
          "name": "stdout"
        },
        {
          "output_type": "execute_result",
          "data": {
            "text/plain": [
              "XGBClassifier(base_score=0.5, booster='gbtree', colsample_bylevel=1,\n",
              "              colsample_bynode=1, colsample_bytree=1, gamma=0,\n",
              "              learning_rate=0.001, max_delta_step=0, max_depth=4,\n",
              "              min_child_weight=1, missing=None, n_estimators=200, n_jobs=1,\n",
              "              nthread=None, objective='binary:logistic', random_state=1234,\n",
              "              reg_alpha=0, reg_lambda=1, scale_pos_weight=1, seed=None,\n",
              "              silent=None, subsample=1, verbosity=1)"
            ]
          },
          "metadata": {
            "tags": []
          },
          "execution_count": 43
        }
      ]
    },
    {
      "cell_type": "code",
      "metadata": {
        "id": "j6jvSLUHGnST",
        "colab_type": "code",
        "colab": {}
      },
      "source": [
        "## Get the predictions on train data\n",
        "train_pred = model.predict(X_train)"
      ],
      "execution_count": 44,
      "outputs": []
    },
    {
      "cell_type": "code",
      "metadata": {
        "id": "i_WjMuW_HmHr",
        "colab_type": "code",
        "colab": {}
      },
      "source": [
        "## Get the predictions on validation data\n",
        "validation_pred = model.predict(X_validation)"
      ],
      "execution_count": 45,
      "outputs": []
    },
    {
      "cell_type": "code",
      "metadata": {
        "id": "Ns1Ugn8hH1xs",
        "colab_type": "code",
        "colab": {
          "base_uri": "https://localhost:8080/",
          "height": 51
        },
        "outputId": "dba8352a-50eb-4206-d572-b37d9f960d98"
      },
      "source": [
        "## confusion matrix for train data\n",
        "confusion_matrix_train = confusion_matrix(y_train, train_pred)\n",
        "print(confusion_matrix_train)"
      ],
      "execution_count": 46,
      "outputs": [
        {
          "output_type": "stream",
          "text": [
            "[[  585   285]\n",
            " [   35 18179]]\n"
          ],
          "name": "stdout"
        }
      ]
    },
    {
      "cell_type": "code",
      "metadata": {
        "id": "QqOukrPeH8Ta",
        "colab_type": "code",
        "colab": {
          "base_uri": "https://localhost:8080/",
          "height": 51
        },
        "outputId": "571dc7f2-7bd1-49d6-dbf4-7d44975de745"
      },
      "source": [
        "# confusion matrix for validation data\n",
        "confusion_matrix_validation = confusion_matrix(y_validation, validation_pred)\n",
        "print(confusion_matrix_validation)"
      ],
      "execution_count": 47,
      "outputs": [
        {
          "output_type": "stream",
          "text": [
            "[[ 130   68]\n",
            " [   8 4566]]\n"
          ],
          "name": "stdout"
        }
      ]
    },
    {
      "cell_type": "code",
      "metadata": {
        "id": "zl-8tJVdJPQr",
        "colab_type": "code",
        "colab": {
          "base_uri": "https://localhost:8080/",
          "height": 34
        },
        "outputId": "6add7349-62e7-4fb4-e113-cc7a6bae47d2"
      },
      "source": [
        "##Calculating the recall for train data\n",
        "recall_train=np.diag(confusion_matrix_train)/np.sum(confusion_matrix_train,axis=1)\n",
        "recall_train\n",
        "np.mean(recall_train)"
      ],
      "execution_count": 48,
      "outputs": [
        {
          "output_type": "execute_result",
          "data": {
            "text/plain": [
              "0.8352460971666358"
            ]
          },
          "metadata": {
            "tags": []
          },
          "execution_count": 48
        }
      ]
    },
    {
      "cell_type": "code",
      "metadata": {
        "id": "pmELg2WJJsyI",
        "colab_type": "code",
        "colab": {
          "base_uri": "https://localhost:8080/",
          "height": 34
        },
        "outputId": "3351c6bf-9744-4ef5-c6e6-fbe5aafa2de3"
      },
      "source": [
        "##Calculating the recall for validation data\n",
        "recall_validation=np.diag(confusion_matrix_validation)/np.sum(confusion_matrix_validation,axis=1)\n",
        "recall_validation\n",
        "np.mean(recall_validation)"
      ],
      "execution_count": 49,
      "outputs": [
        {
          "output_type": "execute_result",
          "data": {
            "text/plain": [
              "0.8274083201936284"
            ]
          },
          "metadata": {
            "tags": []
          },
          "execution_count": 49
        }
      ]
    },
    {
      "cell_type": "code",
      "metadata": {
        "id": "ej8G71rxKRi9",
        "colab_type": "code",
        "colab": {}
      },
      "source": [
        "temp=test_data.copy()"
      ],
      "execution_count": null,
      "outputs": []
    },
    {
      "cell_type": "code",
      "metadata": {
        "id": "BIhtceDGKUFe",
        "colab_type": "code",
        "colab": {}
      },
      "source": [
        "## Get the predictions on test data\n",
        "y_pred = model.predict(temp)"
      ],
      "execution_count": null,
      "outputs": []
    },
    {
      "cell_type": "code",
      "metadata": {
        "id": "yXdJOZsNKbRQ",
        "colab_type": "code",
        "colab": {
          "base_uri": "https://localhost:8080/",
          "height": 34
        },
        "outputId": "85fe8e2b-8b0c-4210-9f19-2e9c2ff26827"
      },
      "source": [
        "y_pred"
      ],
      "execution_count": null,
      "outputs": [
        {
          "output_type": "execute_result",
          "data": {
            "text/plain": [
              "array([1, 1, 1, ..., 1, 1, 1])"
            ]
          },
          "metadata": {
            "tags": []
          },
          "execution_count": 79
        }
      ]
    },
    {
      "cell_type": "code",
      "metadata": {
        "id": "Plc6kIOqKcjF",
        "colab_type": "code",
        "colab": {}
      },
      "source": [
        "temp1 = temp.copy()"
      ],
      "execution_count": null,
      "outputs": []
    },
    {
      "cell_type": "code",
      "metadata": {
        "id": "J52UlOL3Kg0l",
        "colab_type": "code",
        "colab": {
          "base_uri": "https://localhost:8080/",
          "height": 235
        },
        "outputId": "393c08ff-ae1b-41d5-938c-b80776caa34d"
      },
      "source": [
        "temp1.head()"
      ],
      "execution_count": null,
      "outputs": [
        {
          "output_type": "execute_result",
          "data": {
            "text/html": [
              "<div>\n",
              "<style scoped>\n",
              "    .dataframe tbody tr th:only-of-type {\n",
              "        vertical-align: middle;\n",
              "    }\n",
              "\n",
              "    .dataframe tbody tr th {\n",
              "        vertical-align: top;\n",
              "    }\n",
              "\n",
              "    .dataframe thead th {\n",
              "        text-align: right;\n",
              "    }\n",
              "</style>\n",
              "<table border=\"1\" class=\"dataframe\">\n",
              "  <thead>\n",
              "    <tr style=\"text-align: right;\">\n",
              "      <th></th>\n",
              "      <th>X_1</th>\n",
              "      <th>X_2</th>\n",
              "      <th>X_3</th>\n",
              "      <th>X_4</th>\n",
              "      <th>X_5</th>\n",
              "      <th>X_6</th>\n",
              "      <th>X_7</th>\n",
              "      <th>X_8</th>\n",
              "      <th>X_9</th>\n",
              "      <th>X_10</th>\n",
              "      <th>X_11</th>\n",
              "      <th>X_12</th>\n",
              "      <th>X_13</th>\n",
              "      <th>X_14</th>\n",
              "      <th>X_15</th>\n",
              "      <th>year</th>\n",
              "      <th>month</th>\n",
              "      <th>day</th>\n",
              "    </tr>\n",
              "    <tr>\n",
              "      <th>INCIDENT_ID</th>\n",
              "      <th></th>\n",
              "      <th></th>\n",
              "      <th></th>\n",
              "      <th></th>\n",
              "      <th></th>\n",
              "      <th></th>\n",
              "      <th></th>\n",
              "      <th></th>\n",
              "      <th></th>\n",
              "      <th></th>\n",
              "      <th></th>\n",
              "      <th></th>\n",
              "      <th></th>\n",
              "      <th></th>\n",
              "      <th></th>\n",
              "      <th></th>\n",
              "      <th></th>\n",
              "      <th></th>\n",
              "    </tr>\n",
              "  </thead>\n",
              "  <tbody>\n",
              "    <tr>\n",
              "      <th>CR_195453</th>\n",
              "      <td>0</td>\n",
              "      <td>30</td>\n",
              "      <td>35</td>\n",
              "      <td>7</td>\n",
              "      <td>3</td>\n",
              "      <td>6</td>\n",
              "      <td>4</td>\n",
              "      <td>0</td>\n",
              "      <td>5</td>\n",
              "      <td>1</td>\n",
              "      <td>174</td>\n",
              "      <td>0</td>\n",
              "      <td>72</td>\n",
              "      <td>119</td>\n",
              "      <td>23</td>\n",
              "      <td>27</td>\n",
              "      <td>1</td>\n",
              "      <td>0</td>\n",
              "    </tr>\n",
              "    <tr>\n",
              "      <th>CR_103520</th>\n",
              "      <td>0</td>\n",
              "      <td>44</td>\n",
              "      <td>44</td>\n",
              "      <td>1</td>\n",
              "      <td>3</td>\n",
              "      <td>7</td>\n",
              "      <td>1</td>\n",
              "      <td>4</td>\n",
              "      <td>6</td>\n",
              "      <td>1</td>\n",
              "      <td>316</td>\n",
              "      <td>0</td>\n",
              "      <td>12</td>\n",
              "      <td>29</td>\n",
              "      <td>34</td>\n",
              "      <td>13</td>\n",
              "      <td>2</td>\n",
              "      <td>4</td>\n",
              "    </tr>\n",
              "    <tr>\n",
              "      <th>CR_196089</th>\n",
              "      <td>0</td>\n",
              "      <td>34</td>\n",
              "      <td>33</td>\n",
              "      <td>3</td>\n",
              "      <td>5</td>\n",
              "      <td>2</td>\n",
              "      <td>7</td>\n",
              "      <td>3</td>\n",
              "      <td>0</td>\n",
              "      <td>1</td>\n",
              "      <td>316</td>\n",
              "      <td>1</td>\n",
              "      <td>72</td>\n",
              "      <td>0</td>\n",
              "      <td>34</td>\n",
              "      <td>27</td>\n",
              "      <td>0</td>\n",
              "      <td>26</td>\n",
              "    </tr>\n",
              "    <tr>\n",
              "      <th>CR_112195</th>\n",
              "      <td>7</td>\n",
              "      <td>3</td>\n",
              "      <td>2</td>\n",
              "      <td>3</td>\n",
              "      <td>5</td>\n",
              "      <td>9</td>\n",
              "      <td>8</td>\n",
              "      <td>0</td>\n",
              "      <td>5</td>\n",
              "      <td>1</td>\n",
              "      <td>174</td>\n",
              "      <td>1</td>\n",
              "      <td>112</td>\n",
              "      <td>87</td>\n",
              "      <td>34</td>\n",
              "      <td>15</td>\n",
              "      <td>7</td>\n",
              "      <td>17</td>\n",
              "    </tr>\n",
              "    <tr>\n",
              "      <th>CR_149832</th>\n",
              "      <td>0</td>\n",
              "      <td>7</td>\n",
              "      <td>8</td>\n",
              "      <td>7</td>\n",
              "      <td>3</td>\n",
              "      <td>2</td>\n",
              "      <td>7</td>\n",
              "      <td>1</td>\n",
              "      <td>5</td>\n",
              "      <td>1</td>\n",
              "      <td>174</td>\n",
              "      <td>0</td>\n",
              "      <td>112</td>\n",
              "      <td>93</td>\n",
              "      <td>43</td>\n",
              "      <td>20</td>\n",
              "      <td>9</td>\n",
              "      <td>30</td>\n",
              "    </tr>\n",
              "  </tbody>\n",
              "</table>\n",
              "</div>"
            ],
            "text/plain": [
              "             X_1  X_2  X_3  X_4  X_5  X_6  ...  X_13  X_14  X_15  year  month  day\n",
              "INCIDENT_ID                                ...                                    \n",
              "CR_195453      0   30   35    7    3    6  ...    72   119    23    27      1    0\n",
              "CR_103520      0   44   44    1    3    7  ...    12    29    34    13      2    4\n",
              "CR_196089      0   34   33    3    5    2  ...    72     0    34    27      0   26\n",
              "CR_112195      7    3    2    3    5    9  ...   112    87    34    15      7   17\n",
              "CR_149832      0    7    8    7    3    2  ...   112    93    43    20      9   30\n",
              "\n",
              "[5 rows x 18 columns]"
            ]
          },
          "metadata": {
            "tags": []
          },
          "execution_count": 81
        }
      ]
    },
    {
      "cell_type": "code",
      "metadata": {
        "id": "pjDs5l5oKoba",
        "colab_type": "code",
        "colab": {}
      },
      "source": [
        "temp1['MULTIPLE_OFFENSE'] = le_multiple_offense.inverse_transform(y_pred)"
      ],
      "execution_count": null,
      "outputs": []
    },
    {
      "cell_type": "code",
      "metadata": {
        "id": "HqPMo5k6Kqjd",
        "colab_type": "code",
        "colab": {}
      },
      "source": [
        "temp1.reset_index(inplace=True)"
      ],
      "execution_count": null,
      "outputs": []
    },
    {
      "cell_type": "code",
      "metadata": {
        "id": "XQiFXULyKvLN",
        "colab_type": "code",
        "colab": {}
      },
      "source": [
        "to_submit_1 = temp1[['INCIDENT_ID', 'MULTIPLE_OFFENSE']]"
      ],
      "execution_count": null,
      "outputs": []
    },
    {
      "cell_type": "code",
      "metadata": {
        "id": "pyJEKvM_KyJd",
        "colab_type": "code",
        "colab": {
          "base_uri": "https://localhost:8080/",
          "height": 68
        },
        "outputId": "10237b0f-801b-47f6-cd59-1d06b992b081"
      },
      "source": [
        "to_submit_1.MULTIPLE_OFFENSE.value_counts()"
      ],
      "execution_count": null,
      "outputs": [
        {
          "output_type": "execute_result",
          "data": {
            "text/plain": [
              "1    15365\n",
              "0      538\n",
              "Name: MULTIPLE_OFFENSE, dtype: int64"
            ]
          },
          "metadata": {
            "tags": []
          },
          "execution_count": 86
        }
      ]
    },
    {
      "cell_type": "code",
      "metadata": {
        "id": "OVbV9wHWK1SU",
        "colab_type": "code",
        "colab": {
          "base_uri": "https://localhost:8080/",
          "height": 34
        },
        "outputId": "b4045474-e681-4d8f-d78b-b56a813b1041"
      },
      "source": [
        "to_submit_1.shape"
      ],
      "execution_count": null,
      "outputs": [
        {
          "output_type": "execute_result",
          "data": {
            "text/plain": [
              "(15903, 2)"
            ]
          },
          "metadata": {
            "tags": []
          },
          "execution_count": 87
        }
      ]
    },
    {
      "cell_type": "code",
      "metadata": {
        "id": "_yCElHHCK12_",
        "colab_type": "code",
        "colab": {
          "base_uri": "https://localhost:8080/",
          "height": 34
        },
        "outputId": "ea3f2b73-1a1c-4ded-b14a-8cc99fd2adfd"
      },
      "source": [
        "test_data.shape"
      ],
      "execution_count": null,
      "outputs": [
        {
          "output_type": "execute_result",
          "data": {
            "text/plain": [
              "(15903, 18)"
            ]
          },
          "metadata": {
            "tags": []
          },
          "execution_count": 88
        }
      ]
    },
    {
      "cell_type": "code",
      "metadata": {
        "id": "WvHpbVPjK4Ze",
        "colab_type": "code",
        "colab": {}
      },
      "source": [
        "## store to_submit into csv file with name xgboost \n",
        "to_submit_1.to_csv('xgboost.csv',index = False)"
      ],
      "execution_count": null,
      "outputs": []
    },
    {
      "cell_type": "markdown",
      "metadata": {
        "id": "MaiBIvVgSBiC",
        "colab_type": "text"
      },
      "source": [
        "## Improvement 1"
      ]
    },
    {
      "cell_type": "code",
      "metadata": {
        "id": "TUY0hXUrRYP0",
        "colab_type": "code",
        "colab": {
          "base_uri": "https://localhost:8080/",
          "height": 170
        },
        "outputId": "4f179a61-694f-4581-808a-11d58efc5390"
      },
      "source": [
        "model = XGBClassifier(max_depth=10, n_estimators=200,learning_rate = 0.001,\n",
        "                      booster ='gbtree',random_state=1234)\n",
        "%time model.fit(X_train, y_train)"
      ],
      "execution_count": 50,
      "outputs": [
        {
          "output_type": "stream",
          "text": [
            "CPU times: user 4.57 s, sys: 7.9 ms, total: 4.57 s\n",
            "Wall time: 4.58 s\n"
          ],
          "name": "stdout"
        },
        {
          "output_type": "execute_result",
          "data": {
            "text/plain": [
              "XGBClassifier(base_score=0.5, booster='gbtree', colsample_bylevel=1,\n",
              "              colsample_bynode=1, colsample_bytree=1, gamma=0,\n",
              "              learning_rate=0.001, max_delta_step=0, max_depth=10,\n",
              "              min_child_weight=1, missing=None, n_estimators=200, n_jobs=1,\n",
              "              nthread=None, objective='binary:logistic', random_state=1234,\n",
              "              reg_alpha=0, reg_lambda=1, scale_pos_weight=1, seed=None,\n",
              "              silent=None, subsample=1, verbosity=1)"
            ]
          },
          "metadata": {
            "tags": []
          },
          "execution_count": 50
        }
      ]
    },
    {
      "cell_type": "code",
      "metadata": {
        "id": "jfZfXbdUSFLl",
        "colab_type": "code",
        "colab": {}
      },
      "source": [
        "## Get the predictions on train data\n",
        "train_pred = model.predict(X_train)"
      ],
      "execution_count": 51,
      "outputs": []
    },
    {
      "cell_type": "code",
      "metadata": {
        "id": "BdWK5mRgSPKG",
        "colab_type": "code",
        "colab": {}
      },
      "source": [
        "## Get the predictions on validation data\n",
        "validation_pred = model.predict(X_validation)"
      ],
      "execution_count": 52,
      "outputs": []
    },
    {
      "cell_type": "code",
      "metadata": {
        "id": "idSyx19vSVkI",
        "colab_type": "code",
        "colab": {
          "base_uri": "https://localhost:8080/",
          "height": 51
        },
        "outputId": "bee19a2a-3550-4132-ba53-47ff529aef27"
      },
      "source": [
        "## confusion matrix for train data\n",
        "confusion_matrix_train = confusion_matrix(y_train, train_pred)\n",
        "print(confusion_matrix_train)"
      ],
      "execution_count": 53,
      "outputs": [
        {
          "output_type": "stream",
          "text": [
            "[[  859    11]\n",
            " [   16 18198]]\n"
          ],
          "name": "stdout"
        }
      ]
    },
    {
      "cell_type": "code",
      "metadata": {
        "id": "GiSsGUe6SarH",
        "colab_type": "code",
        "colab": {
          "base_uri": "https://localhost:8080/",
          "height": 51
        },
        "outputId": "5a40e749-3213-449a-c245-9e22210ccec8"
      },
      "source": [
        "# confusion matrix for validation data\n",
        "confusion_matrix_validation = confusion_matrix(y_validation, validation_pred)\n",
        "print(confusion_matrix_validation)"
      ],
      "execution_count": 54,
      "outputs": [
        {
          "output_type": "stream",
          "text": [
            "[[ 191    7]\n",
            " [   7 4567]]\n"
          ],
          "name": "stdout"
        }
      ]
    },
    {
      "cell_type": "code",
      "metadata": {
        "id": "5wn3xBviSfQe",
        "colab_type": "code",
        "colab": {
          "base_uri": "https://localhost:8080/",
          "height": 34
        },
        "outputId": "35d13159-d51f-4440-a5d5-deba9d024d20"
      },
      "source": [
        "##Calculating the recall for train data\n",
        "recall_train=np.diag(confusion_matrix_train)/np.sum(confusion_matrix_train,axis=1)\n",
        "recall_train\n",
        "np.mean(recall_train)"
      ],
      "execution_count": 55,
      "outputs": [
        {
          "output_type": "execute_result",
          "data": {
            "text/plain": [
              "0.9932389383434999"
            ]
          },
          "metadata": {
            "tags": []
          },
          "execution_count": 55
        }
      ]
    },
    {
      "cell_type": "code",
      "metadata": {
        "id": "S50Tjf_DSmID",
        "colab_type": "code",
        "colab": {
          "base_uri": "https://localhost:8080/",
          "height": 34
        },
        "outputId": "3c7aa88c-93ad-45ac-c54c-e3c59a82df5d"
      },
      "source": [
        "##Calculating the recall for validation data\n",
        "recall_validation=np.diag(confusion_matrix_validation)/np.sum(confusion_matrix_validation,axis=1)\n",
        "recall_validation\n",
        "np.mean(recall_validation)"
      ],
      "execution_count": 56,
      "outputs": [
        {
          "output_type": "execute_result",
          "data": {
            "text/plain": [
              "0.9815580377451825"
            ]
          },
          "metadata": {
            "tags": []
          },
          "execution_count": 56
        }
      ]
    },
    {
      "cell_type": "code",
      "metadata": {
        "id": "gjAr-4caSsoQ",
        "colab_type": "code",
        "colab": {}
      },
      "source": [
        "temp=test_data.copy()"
      ],
      "execution_count": 57,
      "outputs": []
    },
    {
      "cell_type": "code",
      "metadata": {
        "id": "Ls1SF2hlSzF5",
        "colab_type": "code",
        "colab": {}
      },
      "source": [
        "## Get the predictions on test data\n",
        "y_pred = model.predict(temp)"
      ],
      "execution_count": 58,
      "outputs": []
    },
    {
      "cell_type": "code",
      "metadata": {
        "id": "7dwRt0IDS4z6",
        "colab_type": "code",
        "colab": {
          "base_uri": "https://localhost:8080/",
          "height": 34
        },
        "outputId": "5ef09cfb-6c9c-49cf-8261-af8cf77b6c79"
      },
      "source": [
        "y_pred"
      ],
      "execution_count": 59,
      "outputs": [
        {
          "output_type": "execute_result",
          "data": {
            "text/plain": [
              "array([1, 1, 1, ..., 1, 1, 1])"
            ]
          },
          "metadata": {
            "tags": []
          },
          "execution_count": 59
        }
      ]
    },
    {
      "cell_type": "code",
      "metadata": {
        "id": "Yf9WvLsSS_C1",
        "colab_type": "code",
        "colab": {}
      },
      "source": [
        "temp1 = temp.copy()"
      ],
      "execution_count": 60,
      "outputs": []
    },
    {
      "cell_type": "code",
      "metadata": {
        "id": "Tb367aY1THOs",
        "colab_type": "code",
        "colab": {
          "base_uri": "https://localhost:8080/",
          "height": 235
        },
        "outputId": "6b49592f-f8ed-48a6-a37a-30b953d46fbe"
      },
      "source": [
        "temp1.head()"
      ],
      "execution_count": 61,
      "outputs": [
        {
          "output_type": "execute_result",
          "data": {
            "text/html": [
              "<div>\n",
              "<style scoped>\n",
              "    .dataframe tbody tr th:only-of-type {\n",
              "        vertical-align: middle;\n",
              "    }\n",
              "\n",
              "    .dataframe tbody tr th {\n",
              "        vertical-align: top;\n",
              "    }\n",
              "\n",
              "    .dataframe thead th {\n",
              "        text-align: right;\n",
              "    }\n",
              "</style>\n",
              "<table border=\"1\" class=\"dataframe\">\n",
              "  <thead>\n",
              "    <tr style=\"text-align: right;\">\n",
              "      <th></th>\n",
              "      <th>X_1</th>\n",
              "      <th>X_2</th>\n",
              "      <th>X_3</th>\n",
              "      <th>X_4</th>\n",
              "      <th>X_5</th>\n",
              "      <th>X_6</th>\n",
              "      <th>X_7</th>\n",
              "      <th>X_8</th>\n",
              "      <th>X_9</th>\n",
              "      <th>X_10</th>\n",
              "      <th>X_11</th>\n",
              "      <th>X_12</th>\n",
              "      <th>X_13</th>\n",
              "      <th>X_14</th>\n",
              "      <th>X_15</th>\n",
              "      <th>year</th>\n",
              "      <th>month</th>\n",
              "      <th>day</th>\n",
              "    </tr>\n",
              "    <tr>\n",
              "      <th>INCIDENT_ID</th>\n",
              "      <th></th>\n",
              "      <th></th>\n",
              "      <th></th>\n",
              "      <th></th>\n",
              "      <th></th>\n",
              "      <th></th>\n",
              "      <th></th>\n",
              "      <th></th>\n",
              "      <th></th>\n",
              "      <th></th>\n",
              "      <th></th>\n",
              "      <th></th>\n",
              "      <th></th>\n",
              "      <th></th>\n",
              "      <th></th>\n",
              "      <th></th>\n",
              "      <th></th>\n",
              "      <th></th>\n",
              "    </tr>\n",
              "  </thead>\n",
              "  <tbody>\n",
              "    <tr>\n",
              "      <th>CR_195453</th>\n",
              "      <td>0</td>\n",
              "      <td>30</td>\n",
              "      <td>35</td>\n",
              "      <td>7</td>\n",
              "      <td>3</td>\n",
              "      <td>6</td>\n",
              "      <td>4</td>\n",
              "      <td>0</td>\n",
              "      <td>5</td>\n",
              "      <td>1</td>\n",
              "      <td>174</td>\n",
              "      <td>0</td>\n",
              "      <td>72</td>\n",
              "      <td>119</td>\n",
              "      <td>23</td>\n",
              "      <td>27</td>\n",
              "      <td>1</td>\n",
              "      <td>0</td>\n",
              "    </tr>\n",
              "    <tr>\n",
              "      <th>CR_103520</th>\n",
              "      <td>0</td>\n",
              "      <td>44</td>\n",
              "      <td>44</td>\n",
              "      <td>1</td>\n",
              "      <td>3</td>\n",
              "      <td>7</td>\n",
              "      <td>1</td>\n",
              "      <td>4</td>\n",
              "      <td>6</td>\n",
              "      <td>1</td>\n",
              "      <td>316</td>\n",
              "      <td>0</td>\n",
              "      <td>12</td>\n",
              "      <td>29</td>\n",
              "      <td>34</td>\n",
              "      <td>13</td>\n",
              "      <td>2</td>\n",
              "      <td>4</td>\n",
              "    </tr>\n",
              "    <tr>\n",
              "      <th>CR_196089</th>\n",
              "      <td>0</td>\n",
              "      <td>34</td>\n",
              "      <td>33</td>\n",
              "      <td>3</td>\n",
              "      <td>5</td>\n",
              "      <td>2</td>\n",
              "      <td>7</td>\n",
              "      <td>3</td>\n",
              "      <td>0</td>\n",
              "      <td>1</td>\n",
              "      <td>316</td>\n",
              "      <td>1</td>\n",
              "      <td>72</td>\n",
              "      <td>0</td>\n",
              "      <td>34</td>\n",
              "      <td>27</td>\n",
              "      <td>0</td>\n",
              "      <td>26</td>\n",
              "    </tr>\n",
              "    <tr>\n",
              "      <th>CR_112195</th>\n",
              "      <td>7</td>\n",
              "      <td>3</td>\n",
              "      <td>2</td>\n",
              "      <td>3</td>\n",
              "      <td>5</td>\n",
              "      <td>9</td>\n",
              "      <td>8</td>\n",
              "      <td>0</td>\n",
              "      <td>5</td>\n",
              "      <td>1</td>\n",
              "      <td>174</td>\n",
              "      <td>1</td>\n",
              "      <td>112</td>\n",
              "      <td>87</td>\n",
              "      <td>34</td>\n",
              "      <td>15</td>\n",
              "      <td>7</td>\n",
              "      <td>17</td>\n",
              "    </tr>\n",
              "    <tr>\n",
              "      <th>CR_149832</th>\n",
              "      <td>0</td>\n",
              "      <td>7</td>\n",
              "      <td>8</td>\n",
              "      <td>7</td>\n",
              "      <td>3</td>\n",
              "      <td>2</td>\n",
              "      <td>7</td>\n",
              "      <td>1</td>\n",
              "      <td>5</td>\n",
              "      <td>1</td>\n",
              "      <td>174</td>\n",
              "      <td>0</td>\n",
              "      <td>112</td>\n",
              "      <td>93</td>\n",
              "      <td>43</td>\n",
              "      <td>20</td>\n",
              "      <td>9</td>\n",
              "      <td>30</td>\n",
              "    </tr>\n",
              "  </tbody>\n",
              "</table>\n",
              "</div>"
            ],
            "text/plain": [
              "             X_1  X_2  X_3  X_4  X_5  X_6  ...  X_13  X_14  X_15  year  month  day\n",
              "INCIDENT_ID                                ...                                    \n",
              "CR_195453      0   30   35    7    3    6  ...    72   119    23    27      1    0\n",
              "CR_103520      0   44   44    1    3    7  ...    12    29    34    13      2    4\n",
              "CR_196089      0   34   33    3    5    2  ...    72     0    34    27      0   26\n",
              "CR_112195      7    3    2    3    5    9  ...   112    87    34    15      7   17\n",
              "CR_149832      0    7    8    7    3    2  ...   112    93    43    20      9   30\n",
              "\n",
              "[5 rows x 18 columns]"
            ]
          },
          "metadata": {
            "tags": []
          },
          "execution_count": 61
        }
      ]
    },
    {
      "cell_type": "code",
      "metadata": {
        "id": "-v2JK54vTJJX",
        "colab_type": "code",
        "colab": {}
      },
      "source": [
        "temp1['MULTIPLE_OFFENSE'] = le_multiple_offense.inverse_transform(y_pred)"
      ],
      "execution_count": 62,
      "outputs": []
    },
    {
      "cell_type": "code",
      "metadata": {
        "id": "A28RjGcMTN6i",
        "colab_type": "code",
        "colab": {}
      },
      "source": [
        "temp1.reset_index(inplace=True)"
      ],
      "execution_count": 63,
      "outputs": []
    },
    {
      "cell_type": "code",
      "metadata": {
        "id": "Wl4fUIvkTTmN",
        "colab_type": "code",
        "colab": {}
      },
      "source": [
        "to_submit_2 = temp1[['INCIDENT_ID', 'MULTIPLE_OFFENSE']]"
      ],
      "execution_count": 64,
      "outputs": []
    },
    {
      "cell_type": "code",
      "metadata": {
        "id": "jzxDnNv7TYj3",
        "colab_type": "code",
        "colab": {
          "base_uri": "https://localhost:8080/",
          "height": 68
        },
        "outputId": "b1ffb3e5-4675-4590-d25b-bc94791d2d32"
      },
      "source": [
        "to_submit_2.MULTIPLE_OFFENSE.value_counts()"
      ],
      "execution_count": 65,
      "outputs": [
        {
          "output_type": "execute_result",
          "data": {
            "text/plain": [
              "1    15181\n",
              "0      722\n",
              "Name: MULTIPLE_OFFENSE, dtype: int64"
            ]
          },
          "metadata": {
            "tags": []
          },
          "execution_count": 65
        }
      ]
    },
    {
      "cell_type": "code",
      "metadata": {
        "id": "vTUV7tgjTeik",
        "colab_type": "code",
        "colab": {
          "base_uri": "https://localhost:8080/",
          "height": 34
        },
        "outputId": "87f54596-b684-4492-cf15-d1259e7db56e"
      },
      "source": [
        "to_submit_2.shape"
      ],
      "execution_count": 66,
      "outputs": [
        {
          "output_type": "execute_result",
          "data": {
            "text/plain": [
              "(15903, 2)"
            ]
          },
          "metadata": {
            "tags": []
          },
          "execution_count": 66
        }
      ]
    },
    {
      "cell_type": "code",
      "metadata": {
        "id": "PkMe5-RNTU4S",
        "colab_type": "code",
        "colab": {
          "base_uri": "https://localhost:8080/",
          "height": 34
        },
        "outputId": "5719d4dc-a2e7-45cc-b9d2-f50901063365"
      },
      "source": [
        "test_data.shape"
      ],
      "execution_count": 67,
      "outputs": [
        {
          "output_type": "execute_result",
          "data": {
            "text/plain": [
              "(15903, 18)"
            ]
          },
          "metadata": {
            "tags": []
          },
          "execution_count": 67
        }
      ]
    },
    {
      "cell_type": "code",
      "metadata": {
        "id": "8054ftQiTjAB",
        "colab_type": "code",
        "colab": {}
      },
      "source": [
        "## store to_submit into csv file with name xgboost \n",
        "to_submit_2.to_csv('xgboost_improvement.csv',index = False)"
      ],
      "execution_count": 68,
      "outputs": []
    }
  ]
}